{
  "cells": [
    {
      "cell_type": "markdown",
      "id": "b21ea66d",
      "metadata": {
        "id": "b21ea66d"
      },
      "source": [
        "# 🔭 Assignment: Measuring Cosmological Parameters Using Type Ia Supernovae\n",
        "\n",
        "In this assignment, you'll analyze observational data from the Pantheon+SH0ES dataset of Type Ia supernovae to measure the Hubble constant $H_0$ and estimate the age of the universe. You will:\n",
        "\n",
        "- Plot the Hubble diagram (distance modulus vs. redshift)\n",
        "- Fit a cosmological model to derive $H_0$ and $\\Omega_m$\n",
        "- Estimate the age of the universe\n",
        "- Analyze residuals to assess the model\n",
        "- Explore the effect of fixing $\\Omega_m$\n",
        "- Compare low-z and high-z results\n",
        "\n",
        "Let's get started!\n"
      ]
    },
    {
      "cell_type": "markdown",
      "id": "689bbee4",
      "metadata": {
        "id": "689bbee4"
      },
      "source": [
        "## 📦 Getting Started: Setup and Libraries\n",
        "\n",
        "Before we dive into the analysis, we need to import the necessary Python libraries:\n",
        "\n",
        "- `numpy`, `pandas` — for numerical operations and data handling\n",
        "- `matplotlib` — for plotting graphs\n",
        "- `scipy.optimize.curve_fit` and `scipy.integrate.quad` — for fitting cosmological models and integrating equations\n",
        "- `astropy.constants` and `astropy.units` — for physical constants and unit conversions\n",
        "\n",
        "Make sure these libraries are installed in your environment. If not, you can install them using:\n",
        "\n",
        "```bash\n",
        "pip install numpy pandas matplotlib scipy astropy\n"
      ]
    },
    {
      "cell_type": "code",
      "execution_count": null,
      "id": "9c050c34",
      "metadata": {
        "id": "9c050c34"
      },
      "outputs": [],
      "source": [
        "import numpy as np\n",
        "import pandas as pd\n",
        "import matplotlib.pyplot as plt\n",
        "from scipy.optimize import curve_fit\n",
        "from scipy.integrate import quad\n",
        "from astropy.constants import c\n",
        "from astropy import units as u"
      ]
    },
    {
      "cell_type": "markdown",
      "id": "eba62180",
      "metadata": {
        "id": "eba62180"
      },
      "source": [
        "## 📂 Load the Pantheon+SH0ES Dataset\n",
        "\n",
        "We now load the observational supernova data from the Pantheon+SH0ES sample. This dataset includes calibrated distance moduli $\\mu$, redshifts corrected for various effects, and uncertainties.\n",
        "\n",
        "### Instructions:\n",
        "- Make sure the data file is downloaded from [Pantheon dataset](https://github.com/PantheonPlusSH0ES/DataRelease/blob/main/Pantheon%2B_Data/4_DISTANCES_AND_COVAR/Pantheon%2BSH0ES.dat) and available locally.\n",
        "- We use `delim_whitespace=True` because the file is space-delimited rather than comma-separated.\n",
        "- Commented rows (starting with `#`) are automatically skipped.\n",
        "\n",
        "We will extract:\n",
        "- `zHD`: Hubble diagram redshift\n",
        "- `MU_SH0ES`: Distance modulus using SH0ES calibration\n",
        "- `MU_SH0ES_ERR_DIAG`: Associated uncertainty\n"
      ]
    },
    {
      "cell_type": "code",
      "execution_count": null,
      "id": "2faa0e46",
      "metadata": {
        "colab": {
          "base_uri": "https://localhost:8080/"
        },
        "id": "2faa0e46",
        "outputId": "570f6c6a-e749-4c23-b623-d466ac81b5b2"
      },
      "outputs": [
        {
          "output_type": "stream",
          "name": "stderr",
          "text": [
            "/tmp/ipython-input-4-3529426103.py:5: FutureWarning: The 'delim_whitespace' keyword in pd.read_csv is deprecated and will be removed in a future version. Use ``sep='\\s+'`` instead\n",
            "  df = pd.read_csv(file_path, delim_whitespace=True, comment='#', header=None)\n"
          ]
        }
      ],
      "source": [
        "# Path to the Pantheon+SH0ES data file\n",
        "file_path = 'Pantheon+SH0ES.dat'\n",
        "\n",
        "# Load the file\n",
        "df = pd.read_csv(file_path, delim_whitespace=True, comment='#', header=None)"
      ]
    },
    {
      "cell_type": "code",
      "source": [
        "df.head()"
      ],
      "metadata": {
        "id": "mAYsFOZoit7W",
        "outputId": "4fb2b1de-b4d1-453c-8708-501ad79e6fdc",
        "colab": {
          "base_uri": "https://localhost:8080/",
          "height": 255
        }
      },
      "id": "mAYsFOZoit7W",
      "execution_count": null,
      "outputs": [
        {
          "output_type": "execute_result",
          "data": {
            "text/plain": [
              "       0         1        2        3        4        5        6        7   \\\n",
              "0     CID  IDSURVEY      zHD   zHDERR     zCMB  zCMBERR     zHEL  zHELERR   \n",
              "1  2011fe        51  0.00122  0.00084  0.00122    2e-05  0.00082    2e-05   \n",
              "2  2011fe        56  0.00122  0.00084  0.00122    2e-05  0.00082    2e-05   \n",
              "3  2012cg        51  0.00256  0.00084  0.00256    2e-05  0.00144    2e-05   \n",
              "4  2012cg        56  0.00256  0.00084  0.00256    2e-05  0.00144    2e-05   \n",
              "\n",
              "         8                  9   ...        37    38       39           40  \\\n",
              "0  m_b_corr  m_b_corr_err_DIAG  ...  PKMJDERR  NDOF  FITCHI2      FITPROB   \n",
              "1   9.74571            1.51621  ...    0.1071    36  26.8859      0.86447   \n",
              "2   9.80286            1.51723  ...    0.0579   101  88.3064      0.81222   \n",
              "3   11.4703           0.781906  ...    0.0278   165    233.5  0.000358347   \n",
              "4   11.4919           0.798612  ...    0.0667    55  100.122  0.000193186   \n",
              "\n",
              "                 41                 42           43              44  \\\n",
              "0  m_b_corr_err_RAW  m_b_corr_err_VPEC  biasCor_m_b  biasCorErr_m_b   \n",
              "1            0.0991              1.496       0.0381           0.005   \n",
              "2            0.0971              1.496      -0.0252           0.003   \n",
              "3            0.0399             0.7134       0.0545           0.019   \n",
              "4            0.0931             0.7134       0.0622           0.028   \n",
              "\n",
              "                     45                  46  \n",
              "0  biasCor_m_b_COVSCALE  biasCor_m_b_COVADD  \n",
              "1                     1               0.003  \n",
              "2                     1               0.004  \n",
              "3                     1               0.036  \n",
              "4                     1                0.04  \n",
              "\n",
              "[5 rows x 47 columns]"
            ],
            "text/html": [
              "\n",
              "  <div id=\"df-6324087c-e573-4b4f-b4b2-9612197b3eb5\" class=\"colab-df-container\">\n",
              "    <div>\n",
              "<style scoped>\n",
              "    .dataframe tbody tr th:only-of-type {\n",
              "        vertical-align: middle;\n",
              "    }\n",
              "\n",
              "    .dataframe tbody tr th {\n",
              "        vertical-align: top;\n",
              "    }\n",
              "\n",
              "    .dataframe thead th {\n",
              "        text-align: right;\n",
              "    }\n",
              "</style>\n",
              "<table border=\"1\" class=\"dataframe\">\n",
              "  <thead>\n",
              "    <tr style=\"text-align: right;\">\n",
              "      <th></th>\n",
              "      <th>0</th>\n",
              "      <th>1</th>\n",
              "      <th>2</th>\n",
              "      <th>3</th>\n",
              "      <th>4</th>\n",
              "      <th>5</th>\n",
              "      <th>6</th>\n",
              "      <th>7</th>\n",
              "      <th>8</th>\n",
              "      <th>9</th>\n",
              "      <th>...</th>\n",
              "      <th>37</th>\n",
              "      <th>38</th>\n",
              "      <th>39</th>\n",
              "      <th>40</th>\n",
              "      <th>41</th>\n",
              "      <th>42</th>\n",
              "      <th>43</th>\n",
              "      <th>44</th>\n",
              "      <th>45</th>\n",
              "      <th>46</th>\n",
              "    </tr>\n",
              "  </thead>\n",
              "  <tbody>\n",
              "    <tr>\n",
              "      <th>0</th>\n",
              "      <td>CID</td>\n",
              "      <td>IDSURVEY</td>\n",
              "      <td>zHD</td>\n",
              "      <td>zHDERR</td>\n",
              "      <td>zCMB</td>\n",
              "      <td>zCMBERR</td>\n",
              "      <td>zHEL</td>\n",
              "      <td>zHELERR</td>\n",
              "      <td>m_b_corr</td>\n",
              "      <td>m_b_corr_err_DIAG</td>\n",
              "      <td>...</td>\n",
              "      <td>PKMJDERR</td>\n",
              "      <td>NDOF</td>\n",
              "      <td>FITCHI2</td>\n",
              "      <td>FITPROB</td>\n",
              "      <td>m_b_corr_err_RAW</td>\n",
              "      <td>m_b_corr_err_VPEC</td>\n",
              "      <td>biasCor_m_b</td>\n",
              "      <td>biasCorErr_m_b</td>\n",
              "      <td>biasCor_m_b_COVSCALE</td>\n",
              "      <td>biasCor_m_b_COVADD</td>\n",
              "    </tr>\n",
              "    <tr>\n",
              "      <th>1</th>\n",
              "      <td>2011fe</td>\n",
              "      <td>51</td>\n",
              "      <td>0.00122</td>\n",
              "      <td>0.00084</td>\n",
              "      <td>0.00122</td>\n",
              "      <td>2e-05</td>\n",
              "      <td>0.00082</td>\n",
              "      <td>2e-05</td>\n",
              "      <td>9.74571</td>\n",
              "      <td>1.51621</td>\n",
              "      <td>...</td>\n",
              "      <td>0.1071</td>\n",
              "      <td>36</td>\n",
              "      <td>26.8859</td>\n",
              "      <td>0.86447</td>\n",
              "      <td>0.0991</td>\n",
              "      <td>1.496</td>\n",
              "      <td>0.0381</td>\n",
              "      <td>0.005</td>\n",
              "      <td>1</td>\n",
              "      <td>0.003</td>\n",
              "    </tr>\n",
              "    <tr>\n",
              "      <th>2</th>\n",
              "      <td>2011fe</td>\n",
              "      <td>56</td>\n",
              "      <td>0.00122</td>\n",
              "      <td>0.00084</td>\n",
              "      <td>0.00122</td>\n",
              "      <td>2e-05</td>\n",
              "      <td>0.00082</td>\n",
              "      <td>2e-05</td>\n",
              "      <td>9.80286</td>\n",
              "      <td>1.51723</td>\n",
              "      <td>...</td>\n",
              "      <td>0.0579</td>\n",
              "      <td>101</td>\n",
              "      <td>88.3064</td>\n",
              "      <td>0.81222</td>\n",
              "      <td>0.0971</td>\n",
              "      <td>1.496</td>\n",
              "      <td>-0.0252</td>\n",
              "      <td>0.003</td>\n",
              "      <td>1</td>\n",
              "      <td>0.004</td>\n",
              "    </tr>\n",
              "    <tr>\n",
              "      <th>3</th>\n",
              "      <td>2012cg</td>\n",
              "      <td>51</td>\n",
              "      <td>0.00256</td>\n",
              "      <td>0.00084</td>\n",
              "      <td>0.00256</td>\n",
              "      <td>2e-05</td>\n",
              "      <td>0.00144</td>\n",
              "      <td>2e-05</td>\n",
              "      <td>11.4703</td>\n",
              "      <td>0.781906</td>\n",
              "      <td>...</td>\n",
              "      <td>0.0278</td>\n",
              "      <td>165</td>\n",
              "      <td>233.5</td>\n",
              "      <td>0.000358347</td>\n",
              "      <td>0.0399</td>\n",
              "      <td>0.7134</td>\n",
              "      <td>0.0545</td>\n",
              "      <td>0.019</td>\n",
              "      <td>1</td>\n",
              "      <td>0.036</td>\n",
              "    </tr>\n",
              "    <tr>\n",
              "      <th>4</th>\n",
              "      <td>2012cg</td>\n",
              "      <td>56</td>\n",
              "      <td>0.00256</td>\n",
              "      <td>0.00084</td>\n",
              "      <td>0.00256</td>\n",
              "      <td>2e-05</td>\n",
              "      <td>0.00144</td>\n",
              "      <td>2e-05</td>\n",
              "      <td>11.4919</td>\n",
              "      <td>0.798612</td>\n",
              "      <td>...</td>\n",
              "      <td>0.0667</td>\n",
              "      <td>55</td>\n",
              "      <td>100.122</td>\n",
              "      <td>0.000193186</td>\n",
              "      <td>0.0931</td>\n",
              "      <td>0.7134</td>\n",
              "      <td>0.0622</td>\n",
              "      <td>0.028</td>\n",
              "      <td>1</td>\n",
              "      <td>0.04</td>\n",
              "    </tr>\n",
              "  </tbody>\n",
              "</table>\n",
              "<p>5 rows × 47 columns</p>\n",
              "</div>\n",
              "    <div class=\"colab-df-buttons\">\n",
              "\n",
              "  <div class=\"colab-df-container\">\n",
              "    <button class=\"colab-df-convert\" onclick=\"convertToInteractive('df-6324087c-e573-4b4f-b4b2-9612197b3eb5')\"\n",
              "            title=\"Convert this dataframe to an interactive table.\"\n",
              "            style=\"display:none;\">\n",
              "\n",
              "  <svg xmlns=\"http://www.w3.org/2000/svg\" height=\"24px\" viewBox=\"0 -960 960 960\">\n",
              "    <path d=\"M120-120v-720h720v720H120Zm60-500h600v-160H180v160Zm220 220h160v-160H400v160Zm0 220h160v-160H400v160ZM180-400h160v-160H180v160Zm440 0h160v-160H620v160ZM180-180h160v-160H180v160Zm440 0h160v-160H620v160Z\"/>\n",
              "  </svg>\n",
              "    </button>\n",
              "\n",
              "  <style>\n",
              "    .colab-df-container {\n",
              "      display:flex;\n",
              "      gap: 12px;\n",
              "    }\n",
              "\n",
              "    .colab-df-convert {\n",
              "      background-color: #E8F0FE;\n",
              "      border: none;\n",
              "      border-radius: 50%;\n",
              "      cursor: pointer;\n",
              "      display: none;\n",
              "      fill: #1967D2;\n",
              "      height: 32px;\n",
              "      padding: 0 0 0 0;\n",
              "      width: 32px;\n",
              "    }\n",
              "\n",
              "    .colab-df-convert:hover {\n",
              "      background-color: #E2EBFA;\n",
              "      box-shadow: 0px 1px 2px rgba(60, 64, 67, 0.3), 0px 1px 3px 1px rgba(60, 64, 67, 0.15);\n",
              "      fill: #174EA6;\n",
              "    }\n",
              "\n",
              "    .colab-df-buttons div {\n",
              "      margin-bottom: 4px;\n",
              "    }\n",
              "\n",
              "    [theme=dark] .colab-df-convert {\n",
              "      background-color: #3B4455;\n",
              "      fill: #D2E3FC;\n",
              "    }\n",
              "\n",
              "    [theme=dark] .colab-df-convert:hover {\n",
              "      background-color: #434B5C;\n",
              "      box-shadow: 0px 1px 3px 1px rgba(0, 0, 0, 0.15);\n",
              "      filter: drop-shadow(0px 1px 2px rgba(0, 0, 0, 0.3));\n",
              "      fill: #FFFFFF;\n",
              "    }\n",
              "  </style>\n",
              "\n",
              "    <script>\n",
              "      const buttonEl =\n",
              "        document.querySelector('#df-6324087c-e573-4b4f-b4b2-9612197b3eb5 button.colab-df-convert');\n",
              "      buttonEl.style.display =\n",
              "        google.colab.kernel.accessAllowed ? 'block' : 'none';\n",
              "\n",
              "      async function convertToInteractive(key) {\n",
              "        const element = document.querySelector('#df-6324087c-e573-4b4f-b4b2-9612197b3eb5');\n",
              "        const dataTable =\n",
              "          await google.colab.kernel.invokeFunction('convertToInteractive',\n",
              "                                                    [key], {});\n",
              "        if (!dataTable) return;\n",
              "\n",
              "        const docLinkHtml = 'Like what you see? Visit the ' +\n",
              "          '<a target=\"_blank\" href=https://colab.research.google.com/notebooks/data_table.ipynb>data table notebook</a>'\n",
              "          + ' to learn more about interactive tables.';\n",
              "        element.innerHTML = '';\n",
              "        dataTable['output_type'] = 'display_data';\n",
              "        await google.colab.output.renderOutput(dataTable, element);\n",
              "        const docLink = document.createElement('div');\n",
              "        docLink.innerHTML = docLinkHtml;\n",
              "        element.appendChild(docLink);\n",
              "      }\n",
              "    </script>\n",
              "  </div>\n",
              "\n",
              "\n",
              "    <div id=\"df-476b1b56-67cc-4120-a7a0-2a480e752cc3\">\n",
              "      <button class=\"colab-df-quickchart\" onclick=\"quickchart('df-476b1b56-67cc-4120-a7a0-2a480e752cc3')\"\n",
              "                title=\"Suggest charts\"\n",
              "                style=\"display:none;\">\n",
              "\n",
              "<svg xmlns=\"http://www.w3.org/2000/svg\" height=\"24px\"viewBox=\"0 0 24 24\"\n",
              "     width=\"24px\">\n",
              "    <g>\n",
              "        <path d=\"M19 3H5c-1.1 0-2 .9-2 2v14c0 1.1.9 2 2 2h14c1.1 0 2-.9 2-2V5c0-1.1-.9-2-2-2zM9 17H7v-7h2v7zm4 0h-2V7h2v10zm4 0h-2v-4h2v4z\"/>\n",
              "    </g>\n",
              "</svg>\n",
              "      </button>\n",
              "\n",
              "<style>\n",
              "  .colab-df-quickchart {\n",
              "      --bg-color: #E8F0FE;\n",
              "      --fill-color: #1967D2;\n",
              "      --hover-bg-color: #E2EBFA;\n",
              "      --hover-fill-color: #174EA6;\n",
              "      --disabled-fill-color: #AAA;\n",
              "      --disabled-bg-color: #DDD;\n",
              "  }\n",
              "\n",
              "  [theme=dark] .colab-df-quickchart {\n",
              "      --bg-color: #3B4455;\n",
              "      --fill-color: #D2E3FC;\n",
              "      --hover-bg-color: #434B5C;\n",
              "      --hover-fill-color: #FFFFFF;\n",
              "      --disabled-bg-color: #3B4455;\n",
              "      --disabled-fill-color: #666;\n",
              "  }\n",
              "\n",
              "  .colab-df-quickchart {\n",
              "    background-color: var(--bg-color);\n",
              "    border: none;\n",
              "    border-radius: 50%;\n",
              "    cursor: pointer;\n",
              "    display: none;\n",
              "    fill: var(--fill-color);\n",
              "    height: 32px;\n",
              "    padding: 0;\n",
              "    width: 32px;\n",
              "  }\n",
              "\n",
              "  .colab-df-quickchart:hover {\n",
              "    background-color: var(--hover-bg-color);\n",
              "    box-shadow: 0 1px 2px rgba(60, 64, 67, 0.3), 0 1px 3px 1px rgba(60, 64, 67, 0.15);\n",
              "    fill: var(--button-hover-fill-color);\n",
              "  }\n",
              "\n",
              "  .colab-df-quickchart-complete:disabled,\n",
              "  .colab-df-quickchart-complete:disabled:hover {\n",
              "    background-color: var(--disabled-bg-color);\n",
              "    fill: var(--disabled-fill-color);\n",
              "    box-shadow: none;\n",
              "  }\n",
              "\n",
              "  .colab-df-spinner {\n",
              "    border: 2px solid var(--fill-color);\n",
              "    border-color: transparent;\n",
              "    border-bottom-color: var(--fill-color);\n",
              "    animation:\n",
              "      spin 1s steps(1) infinite;\n",
              "  }\n",
              "\n",
              "  @keyframes spin {\n",
              "    0% {\n",
              "      border-color: transparent;\n",
              "      border-bottom-color: var(--fill-color);\n",
              "      border-left-color: var(--fill-color);\n",
              "    }\n",
              "    20% {\n",
              "      border-color: transparent;\n",
              "      border-left-color: var(--fill-color);\n",
              "      border-top-color: var(--fill-color);\n",
              "    }\n",
              "    30% {\n",
              "      border-color: transparent;\n",
              "      border-left-color: var(--fill-color);\n",
              "      border-top-color: var(--fill-color);\n",
              "      border-right-color: var(--fill-color);\n",
              "    }\n",
              "    40% {\n",
              "      border-color: transparent;\n",
              "      border-right-color: var(--fill-color);\n",
              "      border-top-color: var(--fill-color);\n",
              "    }\n",
              "    60% {\n",
              "      border-color: transparent;\n",
              "      border-right-color: var(--fill-color);\n",
              "    }\n",
              "    80% {\n",
              "      border-color: transparent;\n",
              "      border-right-color: var(--fill-color);\n",
              "      border-bottom-color: var(--fill-color);\n",
              "    }\n",
              "    90% {\n",
              "      border-color: transparent;\n",
              "      border-bottom-color: var(--fill-color);\n",
              "    }\n",
              "  }\n",
              "</style>\n",
              "\n",
              "      <script>\n",
              "        async function quickchart(key) {\n",
              "          const quickchartButtonEl =\n",
              "            document.querySelector('#' + key + ' button');\n",
              "          quickchartButtonEl.disabled = true;  // To prevent multiple clicks.\n",
              "          quickchartButtonEl.classList.add('colab-df-spinner');\n",
              "          try {\n",
              "            const charts = await google.colab.kernel.invokeFunction(\n",
              "                'suggestCharts', [key], {});\n",
              "          } catch (error) {\n",
              "            console.error('Error during call to suggestCharts:', error);\n",
              "          }\n",
              "          quickchartButtonEl.classList.remove('colab-df-spinner');\n",
              "          quickchartButtonEl.classList.add('colab-df-quickchart-complete');\n",
              "        }\n",
              "        (() => {\n",
              "          let quickchartButtonEl =\n",
              "            document.querySelector('#df-476b1b56-67cc-4120-a7a0-2a480e752cc3 button');\n",
              "          quickchartButtonEl.style.display =\n",
              "            google.colab.kernel.accessAllowed ? 'block' : 'none';\n",
              "        })();\n",
              "      </script>\n",
              "    </div>\n",
              "\n",
              "    </div>\n",
              "  </div>\n"
            ],
            "application/vnd.google.colaboratory.intrinsic+json": {
              "type": "dataframe",
              "variable_name": "df"
            }
          },
          "metadata": {},
          "execution_count": 5
        }
      ]
    },
    {
      "cell_type": "markdown",
      "id": "a45c031e",
      "metadata": {
        "id": "a45c031e"
      },
      "source": [
        "## 🧾 Preview Dataset Columns\n",
        "\n",
        "Before diving into the analysis, let’s take a quick look at the column names in the dataset. This helps us verify the data loaded correctly and identify the relevant columns we’ll use for cosmological modeling.\n"
      ]
    },
    {
      "cell_type": "code",
      "source": [
        "df.columns = df.iloc[0]"
      ],
      "metadata": {
        "id": "BYwHQ-ucqQ6a"
      },
      "id": "BYwHQ-ucqQ6a",
      "execution_count": null,
      "outputs": []
    },
    {
      "cell_type": "code",
      "source": [
        "df = df.drop(index=0).reset_index(drop=True)"
      ],
      "metadata": {
        "id": "AMqe88SDqTjo"
      },
      "id": "AMqe88SDqTjo",
      "execution_count": null,
      "outputs": []
    },
    {
      "cell_type": "code",
      "execution_count": null,
      "id": "7271226b",
      "metadata": {
        "id": "7271226b",
        "colab": {
          "base_uri": "https://localhost:8080/"
        },
        "outputId": "3e508ce5-ce6b-441f-8c20-4796b264a9da"
      },
      "outputs": [
        {
          "output_type": "execute_result",
          "data": {
            "text/plain": [
              "Index(['CID', 'IDSURVEY', 'zHD', 'zHDERR', 'zCMB', 'zCMBERR', 'zHEL',\n",
              "       'zHELERR', 'm_b_corr', 'm_b_corr_err_DIAG', 'MU_SH0ES',\n",
              "       'MU_SH0ES_ERR_DIAG', 'CEPH_DIST', 'IS_CALIBRATOR', 'USED_IN_SH0ES_HF',\n",
              "       'c', 'cERR', 'x1', 'x1ERR', 'mB', 'mBERR', 'x0', 'x0ERR', 'COV_x1_c',\n",
              "       'COV_x1_x0', 'COV_c_x0', 'RA', 'DEC', 'HOST_RA', 'HOST_DEC',\n",
              "       'HOST_ANGSEP', 'VPEC', 'VPECERR', 'MWEBV', 'HOST_LOGMASS',\n",
              "       'HOST_LOGMASS_ERR', 'PKMJD', 'PKMJDERR', 'NDOF', 'FITCHI2', 'FITPROB',\n",
              "       'm_b_corr_err_RAW', 'm_b_corr_err_VPEC', 'biasCor_m_b',\n",
              "       'biasCorErr_m_b', 'biasCor_m_b_COVSCALE', 'biasCor_m_b_COVADD'],\n",
              "      dtype='object', name=0)"
            ]
          },
          "metadata": {},
          "execution_count": 8
        }
      ],
      "source": [
        "df.columns"
      ]
    },
    {
      "cell_type": "markdown",
      "id": "61227154",
      "metadata": {
        "id": "61227154"
      },
      "source": [
        "## 🧹 Clean and Extract Relevant Data\n",
        "\n",
        "To ensure reliable fitting, we remove any rows that have missing values in key columns:\n",
        "\n",
        "- `zHD`: redshift for the Hubble diagram  \n",
        "- `MU_SH0ES`: distance modulus  \n",
        "- `MU_SH0ES_ERR_DIAG`: uncertainty in the distance modulus  \n",
        "\n",
        "We then extract these cleaned columns as NumPy arrays to prepare for analysis and modeling.\n"
      ]
    },
    {
      "cell_type": "code",
      "execution_count": null,
      "id": "cfed158f",
      "metadata": {
        "id": "cfed158f"
      },
      "outputs": [],
      "source": [
        "# Convert relevant columns to numeric, coercing invalid entries to NaN\n",
        "df['zHD'] = pd.to_numeric(df['zHD'], errors='coerce')\n",
        "df['MU_SH0ES'] = pd.to_numeric(df['MU_SH0ES'], errors='coerce')\n",
        "df['MU_SH0ES_ERR_DIAG'] = pd.to_numeric(df['MU_SH0ES_ERR_DIAG'], errors='coerce')"
      ]
    },
    {
      "cell_type": "code",
      "source": [
        "# Drop any rows missing values in our key columns\n",
        "df_clean = df.dropna(subset=['zHD', 'MU_SH0ES', 'MU_SH0ES_ERR_DIAG'])"
      ],
      "metadata": {
        "id": "Jy9k64HTqahh"
      },
      "id": "Jy9k64HTqahh",
      "execution_count": null,
      "outputs": []
    },
    {
      "cell_type": "code",
      "source": [
        "# Extract NumPy arrays for modeling\n",
        "z = df_clean['zHD'].values\n",
        "mu = df_clean['MU_SH0ES'].values\n",
        "mu_err = df_clean['MU_SH0ES_ERR_DIAG'].values"
      ],
      "metadata": {
        "id": "gnbmi_xTqdWd"
      },
      "id": "gnbmi_xTqdWd",
      "execution_count": null,
      "outputs": []
    },
    {
      "cell_type": "markdown",
      "id": "6f86bfdc",
      "metadata": {
        "id": "6f86bfdc"
      },
      "source": [
        "## 📈 Plot the Hubble Diagram\n",
        "\n",
        "Let’s visualize the relationship between redshift $z$ and distance modulus $\\mu$, known as the Hubble diagram. This plot is a cornerstone of observational cosmology—it allows us to compare supernova observations with theoretical predictions based on different cosmological models.\n",
        "\n",
        "We use a logarithmic scale on the redshift axis to clearly display both nearby and distant supernovae.\n"
      ]
    },
    {
      "cell_type": "code",
      "execution_count": null,
      "id": "91d53766",
      "metadata": {
        "id": "91d53766",
        "colab": {
          "base_uri": "https://localhost:8080/",
          "height": 476
        },
        "outputId": "a45d457a-8643-4898-a5ac-12024d73d1cc"
      },
      "outputs": [
        {
          "output_type": "display_data",
          "data": {
            "text/plain": [
              "<Figure size 640x480 with 1 Axes>"
            ],
            "image/png": "[encoded data removed]"
          },
          "metadata": {}
        }
      ],
      "source": [
        "plt.figure()\n",
        "plt.errorbar(z, mu, yerr=mu_err, fmt='.', alpha=0.6)\n",
        "plt.xscale('log')\n",
        "plt.xlabel('Redshift (z)')\n",
        "plt.ylabel('Distance Modulus (μ)')\n",
        "plt.title('Hubble Diagram: Pantheon+SH0ES')\n",
        "plt.show()"
      ]
    },
    {
      "cell_type": "markdown",
      "id": "380a463f",
      "metadata": {
        "id": "380a463f"
      },
      "source": [
        "## 🧮 Define the Cosmological Model\n",
        "\n",
        "We now define the theoretical framework based on the flat $\\Lambda\\mathrm{CDM}$ model (read about the model in wikipedia if needed). This involves:\n",
        "\n",
        "- The dimensionless Hubble parameter:\n",
        "  $$\n",
        "  E(z) = \\sqrt{\\Omega_m (1+z)^3 + (1 - \\Omega_m)}\n",
        "  $$\n",
        "\n",
        "- The distance modulus is:\n",
        "  $$\n",
        "  \\mu(z) = 5 \\log_{10}(d_L / \\text{Mpc}) + 25\n",
        "  $$\n",
        "\n",
        "- And the corresponding luminosity distance :\n",
        "  \n",
        "  $$\n",
        "  d_L(z) = (1 + z) \\cdot \\frac{c}{H_0} \\int_0^z \\frac{dz'}{E(z')}\n",
        "  $$\n",
        "\n",
        "These equations allow us to compute the expected distance modulus from a given redshift $z$, Hubble constant $H_0$, and matter density parameter $\\Omega_m$.\n"
      ]
    },
    {
      "cell_type": "code",
      "execution_count": null,
      "id": "152ed083",
      "metadata": {
        "id": "152ed083"
      },
      "outputs": [],
      "source": [
        "# Define the E(z) for flat LCDM\n",
        "# Dimensionless Hubble parameter for flat ΛCDM\n",
        "def E(z, Omega_m):\n",
        "    return np.sqrt(Omega_m * (1 + z)**3 + (1.0 - Omega_m))"
      ]
    },
    {
      "cell_type": "code",
      "source": [
        "# Luminosity distance in Mpc, try using scipy quad to integrate.\n",
        "def luminosity_distance(z, H0, Omega_m):\n",
        "\n",
        "    if not hasattr(H0, 'unit'):   # Ensure H0 is a Quantity with units km/s/Mpc\n",
        "        H0 = H0 * (u.km / u.s / u.Mpc)\n",
        "\n",
        "    c_km_s = c.to(u.km / u.s)  # Speed of light in km/s\n",
        "    factor = (c_km_s / H0).to(u.Mpc)  # Prefactor c/H0 has units of Mpc\n",
        "\n",
        "    def integrand(zp):\n",
        "        return 1.0 / E(zp, Omega_m)\n",
        "\n",
        "    # Integrate for comoving distance\n",
        "    if np.isscalar(z):\n",
        "        Dc = factor * quad(integrand, 0, z)[0]\n",
        "    else:\n",
        "        Dc = np.array([quad(integrand, 0, zi)[0] for zi in z]) * factor\n",
        "\n",
        "    D_L = (1 + z) * Dc # Luminosity distance D_L = (1+z) * D_C\n",
        "    return D_L.to(u.Mpc)"
      ],
      "metadata": {
        "id": "hvSiSfM-rlxt"
      },
      "id": "hvSiSfM-rlxt",
      "execution_count": null,
      "outputs": []
    },
    {
      "cell_type": "code",
      "source": [
        "# Theoretical distance modulus\n",
        "def mu_theory(z, H0, Omega_m):\n",
        "    D_L = luminosity_distance(z, H0, Omega_m)\n",
        "    return 5 * np.log10(D_L.value) + 25   # Convert to dimensionless for log10"
      ],
      "metadata": {
        "id": "c11O38pMrnje"
      },
      "id": "c11O38pMrnje",
      "execution_count": null,
      "outputs": []
    },
    {
      "cell_type": "markdown",
      "id": "847cb442",
      "metadata": {
        "id": "847cb442"
      },
      "source": [
        "## 🔧 Fit the Model to Supernova Data\n",
        "\n",
        "We now perform a non-linear least squares fit to the supernova data using our theoretical model for $\\mu(z)$. This fitting procedure will estimate the best-fit values for the Hubble constant $ H_0$ and matter density parameter $\\Omega_m$, along with their associated uncertainties.\n",
        "\n",
        "We'll use:\n",
        "- `curve_fit` from `scipy.optimize` for the fitting.\n",
        "- The observed distance modulus \\(\\mu\\), redshift \\(z\\), and measurement errors.\n",
        "\n",
        "The initial guess is:\n",
        "- $ H_0 = 70 \\, \\text{km/s/Mpc} $\n",
        "- $\\Omega_m =0.3$\n"
      ]
    },
    {
      "cell_type": "code",
      "execution_count": null,
      "id": "a6f62c5a",
      "metadata": {
        "id": "a6f62c5a"
      },
      "outputs": [],
      "source": [
        "# Initial guess: H0 = 70 km/s/Mpc, Omega_m = 0.3\n",
        "p0 = [70, 0.3]"
      ]
    },
    {
      "cell_type": "code",
      "source": [
        "# Fit mu_theory(z, H0, Omega_m) to the data\n",
        "popt, pcov = curve_fit(\n",
        "    mu_theory,\n",
        "    z, mu,\n",
        "    sigma=mu_err,\n",
        "    p0=p0,\n",
        "    absolute_sigma=True,\n",
        "    maxfev=5000\n",
        ")"
      ],
      "metadata": {
        "id": "Gzd60L7hshwv"
      },
      "id": "Gzd60L7hshwv",
      "execution_count": null,
      "outputs": []
    },
    {
      "cell_type": "code",
      "source": [
        "# Extract best‐fit parameters and their 1σ uncertainties\n",
        "H0_fit, Omega_m_fit = popt\n",
        "H0_err, Omega_m_err = np.sqrt(np.diag(pcov))\n",
        "\n",
        "print(f\"Fitted H0 = {H0_fit:.2f} ± {H0_err:.2f} km/s/Mpc\")\n",
        "print(f\"Fitted Omega_m = {Omega_m_fit:.3f} ± {Omega_m_err:.3f}\")"
      ],
      "metadata": {
        "colab": {
          "base_uri": "https://localhost:8080/"
        },
        "id": "evdeUKmuslu1",
        "outputId": "bf23f2c6-8e99-4f4a-82f1-768aef776218"
      },
      "id": "evdeUKmuslu1",
      "execution_count": null,
      "outputs": [
        {
          "output_type": "stream",
          "name": "stdout",
          "text": [
            "Fitted H0 = 72.97 ± 0.26 km/s/Mpc\n",
            "Fitted Omega_m = 0.351 ± 0.019\n"
          ]
        }
      ]
    },
    {
      "cell_type": "markdown",
      "id": "ae7655f7",
      "metadata": {
        "id": "ae7655f7"
      },
      "source": [
        "## ⏳ Estimate the Age of the Universe\n",
        "\n",
        "Now that we have the best-fit values of $ H_0 $ and $ \\Omega_m $, we can estimate the age of the universe. This is done by integrating the inverse of the Hubble parameter over redshift:\n",
        "\n",
        "$$\n",
        "t_0 = \\int_0^\\infty \\frac{1}{(1 + z) H(z)} \\, dz\n",
        "$$\n",
        "\n",
        "We convert $ H_0 $ to SI units and express the result in gigayears (Gyr). This provides an independent check on our cosmological model by comparing the estimated age to values from other probes like Planck CMB measurements.\n"
      ]
    },
    {
      "cell_type": "code",
      "execution_count": null,
      "id": "a897da5d",
      "metadata": {
        "id": "a897da5d"
      },
      "outputs": [],
      "source": [
        "def age_of_universe(H0, Omega_m):\n",
        "    H0_si = (H0 * u.km / u.s / u.Mpc).to(1 / u.s)  # Convert H0 [km/s/Mpc] to s⁻¹\n",
        "    integral = quad(lambda z: 1.0 / ((1 + z) * E(z, Omega_m)), 0, np.inf, limit=200)[0]\n",
        "    t0_sec = integral / H0_si.value  # Age in seconds = integral / H0_si\n",
        "    return (t0_sec * u.s).to(u.Gyr).value # Convert to gigayears"
      ]
    },
    {
      "cell_type": "code",
      "source": [
        "t0 = age_of_universe(H0_fit, Omega_m_fit)\n",
        "print(f\"Estimated age of Universe: {t0:.2f} Gyr\")"
      ],
      "metadata": {
        "colab": {
          "base_uri": "https://localhost:8080/"
        },
        "id": "8UAeJTTetBRI",
        "outputId": "09fb1e05-67b9-4dcd-d896-beb77b1b2961"
      },
      "id": "8UAeJTTetBRI",
      "execution_count": null,
      "outputs": [
        {
          "output_type": "stream",
          "name": "stdout",
          "text": [
            "Estimated age of Universe: 12.36 Gyr\n"
          ]
        }
      ]
    },
    {
      "cell_type": "markdown",
      "id": "ddd2d6f2",
      "metadata": {
        "id": "ddd2d6f2"
      },
      "source": [
        "## 📊 Analyze Residuals\n",
        "\n",
        "To evaluate how well our cosmological model fits the data, we compute the residuals:\n",
        "\n",
        "$$\n",
        "\\text{Residual} = \\mu_{\\text{obs}} - \\mu_{\\text{model}}\n",
        "$$\n",
        "\n",
        "Plotting these residuals against redshift helps identify any systematic trends, biases, or outliers. A good model fit should show residuals scattered randomly around zero without any significant structure.\n"
      ]
    },
    {
      "cell_type": "code",
      "execution_count": null,
      "id": "c35a3263",
      "metadata": {
        "id": "c35a3263"
      },
      "outputs": [],
      "source": [
        "mu_pred = mu_theory(z, H0_fit * u.km/u.s/u.Mpc, Omega_m_fit)\n",
        "residuals = mu - mu_pred"
      ]
    },
    {
      "cell_type": "code",
      "source": [
        "# Plot residuals vs. redshift\n",
        "plt.figure()\n",
        "plt.scatter(z, residuals, s=10, alpha=0.6)\n",
        "plt.xscale('log')\n",
        "plt.axhline(0, linestyle='--')\n",
        "plt.xlabel('Redshift (z)')\n",
        "plt.ylabel(r'$\\mu_{\\rm obs} - \\mu_{\\rm model}$')\n",
        "plt.title('Residuals of Supernova Fit')\n",
        "plt.show()"
      ],
      "metadata": {
        "colab": {
          "base_uri": "https://localhost:8080/",
          "height": 476
        },
        "id": "PJ82Y-vStX5u",
        "outputId": "eb97c73a-3637-4d45-f550-8941a3a11ed6"
      },
      "id": "PJ82Y-vStX5u",
      "execution_count": null,
      "outputs": [
        {
          "output_type": "display_data",
          "data": {
            "text/plain": [
              "<Figure size 640x480 with 1 Axes>"
            ],
            "image/png": "[encoded data removed]"
          },
          "metadata": {}
        }
      ]
    },
    {
      "cell_type": "markdown",
      "id": "854c117d",
      "metadata": {
        "id": "854c117d"
      },
      "source": [
        "## 🔧 Fit with Fixed Matter Density\n",
        "\n",
        "To reduce parameter degeneracy, let's fix $ \\Omega_m = 0.3 $ and fit only for the Hubble constant $ H_0 $.\n"
      ]
    },
    {
      "cell_type": "code",
      "execution_count": null,
      "id": "4541ea3b",
      "metadata": {
        "id": "4541ea3b"
      },
      "outputs": [],
      "source": [
        "# Fix Omega_m = 0.3, fit only H0\n",
        "def mu_fixed_Om(z, H0):\n",
        "    return mu_theory(z, H0, Omega_m=0.3)"
      ]
    },
    {
      "cell_type": "code",
      "source": [
        "# Perform the fit\n",
        "popt, pcov = curve_fit(\n",
        "    mu_fixed_Om,\n",
        "    z, mu,\n",
        "    sigma=mu_err,\n",
        "    p0=[70],\n",
        "    absolute_sigma=True,\n",
        "    maxfev=5000\n",
        ")"
      ],
      "metadata": {
        "id": "MYLiSQ3buLQW"
      },
      "id": "MYLiSQ3buLQW",
      "execution_count": null,
      "outputs": []
    },
    {
      "cell_type": "code",
      "source": [
        "# Extract result\n",
        "H0_fixed, = popt\n",
        "H0_fixed_err, = np.sqrt(np.diag(pcov))\n",
        "\n",
        "print(f\"Fixed Ωm=0.3 → H0 = {H0_fixed:.2f} ± {H0_fixed_err:.2f} km/s/Mpc\")"
      ],
      "metadata": {
        "colab": {
          "base_uri": "https://localhost:8080/"
        },
        "id": "-HMTBj1BuLiZ",
        "outputId": "d6b9a21a-4995-4e52-f2eb-3c0327cd7366"
      },
      "id": "-HMTBj1BuLiZ",
      "execution_count": null,
      "outputs": [
        {
          "output_type": "stream",
          "name": "stdout",
          "text": [
            "Fixed Ωm=0.3 → H0 = 73.53 ± 0.17 km/s/Mpc\n"
          ]
        }
      ]
    },
    {
      "cell_type": "markdown",
      "source": [
        "Checking with other fixed values of $ \\Omega_m $"
      ],
      "metadata": {
        "id": "gxprtFbd8B3t"
      },
      "id": "gxprtFbd8B3t"
    },
    {
      "cell_type": "code",
      "source": [
        "omega_values = [0.1, 0.15, 0.2, 0.25, 0.3, 0.35, 0.4, 0.45, 0.5]\n",
        "results = []"
      ],
      "metadata": {
        "id": "y_OphnFi8TJC"
      },
      "id": "y_OphnFi8TJC",
      "execution_count": null,
      "outputs": []
    },
    {
      "cell_type": "code",
      "source": [
        "for Om in omega_values:\n",
        "    # Define model with Ωₘ fixed\n",
        "    def mu_fixed(z, H0):\n",
        "        return mu_theory(z, H0, Omega_m=Om)\n",
        "\n",
        "    # Fit for H0\n",
        "    popt, pcov = curve_fit(\n",
        "        mu_fixed,\n",
        "        z, mu,\n",
        "        sigma=mu_err,\n",
        "        p0=[70],\n",
        "        absolute_sigma=True,\n",
        "        maxfev=5000\n",
        "    )\n",
        "    H0_fit = popt[0]\n",
        "    H0_err = np.sqrt(pcov[0,0])\n",
        "\n",
        "    # Compute age of universe for this (H0, Om)\n",
        "    t0 = age_of_universe(H0_fit, Om)\n",
        "\n",
        "    results.append((Om, H0_fit, H0_err, t0))\n",
        "    print(f\"Ωₘ = {Om:.2f} -> H₀ = {H0_fit:.2f} ± {H0_err:.2f} km/s/Mpc, Age = {t0:.2f} Gyr\")"
      ],
      "metadata": {
        "colab": {
          "base_uri": "https://localhost:8080/"
        },
        "id": "EZUm32Om84Zi",
        "outputId": "281188c9-0340-4400-81ff-14f630ebdd50"
      },
      "id": "EZUm32Om84Zi",
      "execution_count": null,
      "outputs": [
        {
          "output_type": "stream",
          "name": "stdout",
          "text": [
            "Ωₘ = 0.10 -> H₀ = 76.03 ± 0.18 km/s/Mpc, Age = 16.44 Gyr\n",
            "Ωₘ = 0.15 -> H₀ = 75.35 ± 0.18 km/s/Mpc, Age = 15.03 Gyr\n",
            "Ωₘ = 0.20 -> H₀ = 74.71 ± 0.17 km/s/Mpc, Age = 14.08 Gyr\n",
            "Ωₘ = 0.25 -> H₀ = 74.10 ± 0.17 km/s/Mpc, Age = 13.38 Gyr\n",
            "Ωₘ = 0.30 -> H₀ = 73.53 ± 0.17 km/s/Mpc, Age = 12.82 Gyr\n",
            "Ωₘ = 0.35 -> H₀ = 72.98 ± 0.17 km/s/Mpc, Age = 12.37 Gyr\n",
            "Ωₘ = 0.40 -> H₀ = 72.46 ± 0.17 km/s/Mpc, Age = 11.98 Gyr\n",
            "Ωₘ = 0.45 -> H₀ = 71.96 ± 0.17 km/s/Mpc, Age = 11.65 Gyr\n",
            "Ωₘ = 0.50 -> H₀ = 71.48 ± 0.17 km/s/Mpc, Age = 11.37 Gyr\n"
          ]
        }
      ]
    },
    {
      "cell_type": "markdown",
      "id": "3bf435fc",
      "metadata": {
        "id": "3bf435fc"
      },
      "source": [
        "## 🔍 Compare Low-z and High-z Subsamples\n",
        "\n",
        "Finally, we examine whether the inferred value of $H_0$ changes with redshift by splitting the dataset into:\n",
        "- **Low-z** supernovae ($ z < 0.1 $)\n",
        "- **High-z** supernovae ($ z \\geq 0.1 $)\n",
        "\n",
        "We then fit each subset separately (keeping $ \\Omega_m = 0.3 $) to explore any potential tension or trend with redshift.\n"
      ]
    },
    {
      "cell_type": "code",
      "source": [
        "# Redshift split threshold\n",
        "z_split = 0.1\n",
        "\n",
        "# Masks for low-z and high-z samples\n",
        "mask_low  = z <  z_split\n",
        "mask_high = z >= z_split"
      ],
      "metadata": {
        "id": "DysMHDoOuoXG"
      },
      "id": "DysMHDoOuoXG",
      "execution_count": null,
      "outputs": []
    },
    {
      "cell_type": "code",
      "source": [
        "# Fit low-z subsample\n",
        "popt_low, pcov_low = curve_fit(\n",
        "    mu_fixed_Om,\n",
        "    z[mask_low],\n",
        "    mu[mask_low],\n",
        "    sigma=mu_err[mask_low],\n",
        "    p0=[70],\n",
        "    absolute_sigma=True,\n",
        "    maxfev=5000\n",
        ")\n",
        "\n",
        "H0_low     = popt_low[0]\n",
        "H0_low_err = np.sqrt(pcov_low[0,0])"
      ],
      "metadata": {
        "id": "rbUNtmi0urI4"
      },
      "id": "rbUNtmi0urI4",
      "execution_count": null,
      "outputs": []
    },
    {
      "cell_type": "code",
      "source": [
        "# Fit high-z subsample\n",
        "popt_high, pcov_high = curve_fit(\n",
        "    mu_fixed_Om,\n",
        "    z[mask_high],\n",
        "    mu[mask_high],\n",
        "    sigma=mu_err[mask_high],\n",
        "    p0=[70],\n",
        "    absolute_sigma=True,\n",
        "    maxfev=5000\n",
        ")\n",
        "\n",
        "H0_high     = popt_high[0]\n",
        "H0_high_err = np.sqrt(pcov_high[0,0])"
      ],
      "metadata": {
        "id": "lle9qCK6uuO8"
      },
      "id": "lle9qCK6uuO8",
      "execution_count": null,
      "outputs": []
    },
    {
      "cell_type": "code",
      "execution_count": 32,
      "id": "875a9ef5",
      "metadata": {
        "id": "875a9ef5",
        "colab": {
          "base_uri": "https://localhost:8080/"
        },
        "outputId": "fe339482-6e41-420f-ab18-918daea056c7"
      },
      "outputs": [
        {
          "output_type": "stream",
          "name": "stdout",
          "text": [
            "Low-z sample → H₀ = 73.01 km/s/Mpc, Age = 12.91 Gyr\n",
            "High-z sample → H₀ = 73.85 km/s/Mpc, Age = 12.77 Gyr\n"
          ]
        }
      ],
      "source": [
        "t0_low  = age_of_universe(H0_low,  0.3)\n",
        "t0_high = age_of_universe(H0_high, 0.3)\n",
        "\n",
        "print(f\"Low-z sample → H₀ = {H0_low:.2f} km/s/Mpc, Age = {t0_low:.2f} Gyr\")\n",
        "print(f\"High-z sample → H₀ = {H0_high:.2f} km/s/Mpc, Age = {t0_high:.2f} Gyr\")"
      ]
    },
    {
      "cell_type": "code",
      "source": [
        "omega_values = [0.1, 0.15, 0.2, 0.25, 0.3, 0.35, 0.4, 0.45, 0.5]\n",
        "z_split = 0.1\n",
        "mask_low  = z <  z_split\n",
        "mask_high = z >= z_split"
      ],
      "metadata": {
        "id": "NTWuzH1VB-Gu"
      },
      "id": "NTWuzH1VB-Gu",
      "execution_count": 33,
      "outputs": []
    },
    {
      "cell_type": "code",
      "source": [
        "print(\"Ωₘ   |  H₀_low ± err  | Age_low (Gyr) |  H₀_high ± err | Age_high (Gyr)\")\n",
        "print(\"-----|----------------|---------------|----------------|--------------\")\n",
        "\n",
        "for Om in omega_values:\n",
        "    # Fit H₀ for low-z with Ωₘ fixed\n",
        "    def mu_low(z_vals, H0):\n",
        "        return mu_theory(z_vals, H0, Omega_m=Om)\n",
        "    p_low, cov_low = curve_fit(mu_low,\n",
        "                                z[mask_low], mu[mask_low],\n",
        "                                sigma=mu_err[mask_low],\n",
        "                                p0=[70],\n",
        "                                absolute_sigma=True,\n",
        "                                maxfev=5000)\n",
        "    H0_low, H0_low_err = p_low[0], np.sqrt(cov_low[0,0])\n",
        "    t0_low = age_of_universe(H0_low, Om)\n",
        "\n",
        "    # Fit H₀ for high-z with Ωₘ fixed\n",
        "    def mu_high(z_vals, H0):\n",
        "        return mu_theory(z_vals, H0, Omega_m=Om)\n",
        "    p_high, cov_high = curve_fit(mu_high,\n",
        "                                 z[mask_high], mu[mask_high],\n",
        "                                 sigma=mu_err[mask_high],\n",
        "                                 p0=[70],\n",
        "                                 absolute_sigma=True,\n",
        "                                 maxfev=5000)\n",
        "    H0_high, H0_high_err = p_high[0], np.sqrt(cov_high[0,0])\n",
        "    t0_high = age_of_universe(H0_high, Om)\n",
        "    print(f\"{Om:>4.2f} | {H0_low:6.2f} ± {H0_low_err:<5.2f} | {t0_low:13.2f} | \"f\"{H0_high:6.2f} ± {H0_high_err:<5.2f} | {t0_high:13.2f}\")"
      ],
      "metadata": {
        "colab": {
          "base_uri": "https://localhost:8080/"
        },
        "id": "7uQSAf3oB_OM",
        "outputId": "6c8f9859-2b6c-43e7-af54-273b576712dd"
      },
      "id": "7uQSAf3oB_OM",
      "execution_count": 41,
      "outputs": [
        {
          "output_type": "stream",
          "name": "stdout",
          "text": [
            "Ωₘ   |  H₀_low ± err  | Age_low (Gyr) |  H₀_high ± err | Age_high (Gyr)\n",
            "-----|----------------|---------------|----------------|--------------\n",
            "0.10 |  73.39 ± 0.28  |         17.03 |  77.67 ± 0.23  |         16.09\n",
            "0.15 |  73.29 ± 0.28  |         15.45 |  76.62 ± 0.23  |         14.78\n",
            "0.20 |  73.20 ± 0.28  |         14.37 |  75.64 ± 0.22  |         13.91\n",
            "0.25 |  73.10 ± 0.28  |         13.56 |  74.72 ± 0.22  |         13.27\n",
            "0.30 |  73.01 ± 0.28  |         12.91 |  73.85 ± 0.22  |         12.77\n",
            "0.35 |  72.91 ± 0.28  |         12.38 |  73.03 ± 0.22  |         12.36\n",
            "0.40 |  72.82 ± 0.28  |         11.92 |  72.24 ± 0.21  |         12.02\n",
            "0.45 |  72.73 ± 0.28  |         11.53 |  71.50 ± 0.21  |         11.73\n",
            "0.50 |  72.63 ± 0.28  |         11.19 |  70.79 ± 0.21  |         11.48\n"
          ]
        }
      ]
    },
    {
      "cell_type": "markdown",
      "id": "8b99e1d4",
      "metadata": {
        "id": "8b99e1d4"
      },
      "source": [
        "You can check your results and potential reasons for different values from accepted constant using this paper by authors of the [Pantheon+ dataset](https://arxiv.org/pdf/2310.11727)\n",
        "\n",
        "You can find more about the dataset in the paper too"
      ]
    }
  ],
  "metadata": {
    "kernelspec": {
      "display_name": "compastrolabenv",
      "language": "python",
      "name": "python3"
    },
    "language_info": {
      "codemirror_mode": {
        "name": "ipython",
        "version": 3
      },
      "file_extension": ".py",
      "mimetype": "text/x-python",
      "name": "python",
      "nbconvert_exporter": "python",
      "pygments_lexer": "ipython3",
      "version": "3.11.5"
    },
    "colab": {
      "provenance": []
    }
  },
  "nbformat": 4,
  "nbformat_minor": 5
}