{
  "cells": [
    {
      "cell_type": "markdown",
      "metadata": {
        "id": "WbK1ReqFAybx"
      },
      "source": [
        "### Step 1: Importing Necessary Libraries\n",
        "We begin by importing Python libraries commonly used in data analysis and visualization:\n",
        "- `numpy` for numerical operations\n",
        "- `matplotlib.pyplot` for plotting graphs\n",
        "- `pandas` (commented out here) for handling CSV data, which is especially useful for tabular data such as redshift catalogs\n",
        "\n",
        "> Tip: If you haven’t used `pandas` before, it’s worth learning as it offers powerful tools to manipulate and analyze structured datasets.\n"
      ]
    },
    {
      "cell_type": "markdown",
      "metadata": {
        "id": "-WL35nKcAyby"
      },
      "source": [
        "For reading big csv files, one can use numpy as well as something called \"pandas\". We suggest to read pandas for CSV file reading and use that"
      ]
    },
    {
      "cell_type": "code",
      "execution_count": 1,
      "metadata": {
        "id": "UVEcxgyHAyb0"
      },
      "outputs": [],
      "source": [
        "import numpy as np\n",
        "import matplotlib.pyplot as plt\n",
        "import pandas as pd\n",
        "\n",
        "from astropy.constants import G, c\n",
        "from astropy.cosmology import Planck18 as cosmo\n",
        "import astropy.units as u"
      ]
    },
    {
      "cell_type": "markdown",
      "metadata": {
        "id": "i1tW_wxGAyb1"
      },
      "source": [
        "\n",
        "Before we begin calculations, we define key physical constants used throughout:\n",
        "\n",
        "- $ H_0 $: Hubble constant, describes the expansion rate of the Universe.\n",
        "- $c$ : Speed of light.\n",
        "-  $G$: Gravitational constant.\n",
        "- $q_0$ : Deceleration parameter, used for approximate co-moving distance calculations.\n",
        "\n",
        "We will use **`astropy.constants`** to ensure unit consistency and precision."
      ]
    },
    {
      "cell_type": "code",
      "execution_count": 2,
      "metadata": {
        "id": "K-dbZAhBAyb1"
      },
      "outputs": [],
      "source": [
        "H_0   = cosmo.H0    # Hubble constant [km/s/Mpc]\n",
        "c_si  = c.to(u.m/u.s)    # Speed of light [m/s]\n",
        "G_si  = G.to(u.m**3/(u.kg*u.s**2))  # Gravitational constant [m³/(kg·s²)]\n",
        "q0    = -0.534  # Deceleration parameter (Planck)\n",
        "c_kms = c.to(u.km / u.s) # Speed of light [km/s]"
      ]
    },
    {
      "cell_type": "code",
      "execution_count": 3,
      "metadata": {
        "colab": {
          "base_uri": "https://localhost:8080/",
          "height": 0
        },
        "id": "weX90Q4ZAyb1",
        "outputId": "a262a403-d38f-4858-aa59-0f7782ed8c65"
      },
      "outputs": [
        {
          "output_type": "stream",
          "name": "stdout",
          "text": [
            "H₀ = 67.66 km / (Mpc s)\n",
            "c  = 299792458.0 m / s\n",
            "G  = 6.6743e-11 m3 / (kg s2)\n",
            "q₀ = -0.534\n"
          ]
        }
      ],
      "source": [
        "print(\"H₀ =\", H_0)\n",
        "print(\"c  =\", c_si)\n",
        "print(\"G  =\", G_si)\n",
        "print(\"q₀ =\", q0)"
      ]
    },
    {
      "cell_type": "markdown",
      "metadata": {
        "id": "1blyAoFuAyb2"
      },
      "source": [
        "Read the csv data into the python using the method below"
      ]
    },
    {
      "cell_type": "code",
      "execution_count": 4,
      "metadata": {
        "id": "gNcH1DRcAyb2"
      },
      "outputs": [],
      "source": [
        "csv_file = \"Skyserver_SQL6_25_2025 12_02_01 PM.csv\"\n",
        "df = pd.read_csv(csv_file)"
      ]
    },
    {
      "cell_type": "code",
      "execution_count": 5,
      "metadata": {
        "colab": {
          "base_uri": "https://localhost:8080/",
          "height": 0
        },
        "id": "dtlJzGnQAyb2",
        "outputId": "ec7802b4-4a03-400e-83b6-5e5d43c05c5b"
      },
      "outputs": [
        {
          "output_type": "stream",
          "name": "stdout",
          "text": [
            "Columns: ['objid', 'ra', 'dec', 'photoz', 'photozerr', 'specz', 'speczerr', 'proj_sep', 'umag', 'umagerr', 'gmag', 'gmagerr', 'rmag', 'rmagerr', 'obj_type']\n"
          ]
        }
      ],
      "source": [
        "print(\"Columns:\", df.columns.tolist())"
      ]
    },
    {
      "cell_type": "code",
      "execution_count": 6,
      "metadata": {
        "colab": {
          "base_uri": "https://localhost:8080/",
          "height": 206
        },
        "id": "0mXWz-MtAyb2",
        "outputId": "f31e68f9-22cf-41a0-8603-4ba44a85f234"
      },
      "outputs": [
        {
          "output_type": "execute_result",
          "data": {
            "text/plain": [
              "                 objid         ra        dec    photoz  photozerr     specz  \\\n",
              "0  1237671768542478711  257.82458  64.133257  0.079193   0.022867  0.082447   \n",
              "1  1237671768542478711  257.82458  64.133257  0.079193   0.022867  0.082466   \n",
              "2  1237671768542478713  257.83332  64.126043  0.091507   0.014511  0.081218   \n",
              "3  1237671768542544090  257.85137  64.173247  0.081102   0.009898  0.079561   \n",
              "4  1237671768542544090  257.85137  64.173247  0.081102   0.009898  0.079568   \n",
              "\n",
              "   speczerr  proj_sep      umag   umagerr      gmag   gmagerr      rmag  \\\n",
              "0  0.000017  8.347733  18.96488  0.043377  17.49815  0.005672  16.75003   \n",
              "1  0.000014  8.347733  18.96488  0.043377  17.49815  0.005672  16.75003   \n",
              "2  0.000021  8.011259  20.22848  0.072019  18.38334  0.007763  17.46793   \n",
              "3  0.000022  8.739276  19.21829  0.050135  17.18970  0.004936  16.22043   \n",
              "4  0.000019  8.739276  19.21829  0.050135  17.18970  0.004936  16.22043   \n",
              "\n",
              "    rmagerr  obj_type  \n",
              "0  0.004708         3  \n",
              "1  0.004708         3  \n",
              "2  0.005828         3  \n",
              "3  0.003769         3  \n",
              "4  0.003769         3  "
            ],
            "text/html": [
              "\n",
              "  <div id=\"df-1ecad7d9-8b7a-40b5-8a9f-ca5f523d6120\" class=\"colab-df-container\">\n",
              "    <div>\n",
              "<style scoped>\n",
              "    .dataframe tbody tr th:only-of-type {\n",
              "        vertical-align: middle;\n",
              "    }\n",
              "\n",
              "    .dataframe tbody tr th {\n",
              "        vertical-align: top;\n",
              "    }\n",
              "\n",
              "    .dataframe thead th {\n",
              "        text-align: right;\n",
              "    }\n",
              "</style>\n",
              "<table border=\"1\" class=\"dataframe\">\n",
              "  <thead>\n",
              "    <tr style=\"text-align: right;\">\n",
              "      <th></th>\n",
              "      <th>objid</th>\n",
              "      <th>ra</th>\n",
              "      <th>dec</th>\n",
              "      <th>photoz</th>\n",
              "      <th>photozerr</th>\n",
              "      <th>specz</th>\n",
              "      <th>speczerr</th>\n",
              "      <th>proj_sep</th>\n",
              "      <th>umag</th>\n",
              "      <th>umagerr</th>\n",
              "      <th>gmag</th>\n",
              "      <th>gmagerr</th>\n",
              "      <th>rmag</th>\n",
              "      <th>rmagerr</th>\n",
              "      <th>obj_type</th>\n",
              "    </tr>\n",
              "  </thead>\n",
              "  <tbody>\n",
              "    <tr>\n",
              "      <th>0</th>\n",
              "      <td>1237671768542478711</td>\n",
              "      <td>257.82458</td>\n",
              "      <td>64.133257</td>\n",
              "      <td>0.079193</td>\n",
              "      <td>0.022867</td>\n",
              "      <td>0.082447</td>\n",
              "      <td>0.000017</td>\n",
              "      <td>8.347733</td>\n",
              "      <td>18.96488</td>\n",
              "      <td>0.043377</td>\n",
              "      <td>17.49815</td>\n",
              "      <td>0.005672</td>\n",
              "      <td>16.75003</td>\n",
              "      <td>0.004708</td>\n",
              "      <td>3</td>\n",
              "    </tr>\n",
              "    <tr>\n",
              "      <th>1</th>\n",
              "      <td>1237671768542478711</td>\n",
              "      <td>257.82458</td>\n",
              "      <td>64.133257</td>\n",
              "      <td>0.079193</td>\n",
              "      <td>0.022867</td>\n",
              "      <td>0.082466</td>\n",
              "      <td>0.000014</td>\n",
              "      <td>8.347733</td>\n",
              "      <td>18.96488</td>\n",
              "      <td>0.043377</td>\n",
              "      <td>17.49815</td>\n",
              "      <td>0.005672</td>\n",
              "      <td>16.75003</td>\n",
              "      <td>0.004708</td>\n",
              "      <td>3</td>\n",
              "    </tr>\n",
              "    <tr>\n",
              "      <th>2</th>\n",
              "      <td>1237671768542478713</td>\n",
              "      <td>257.83332</td>\n",
              "      <td>64.126043</td>\n",
              "      <td>0.091507</td>\n",
              "      <td>0.014511</td>\n",
              "      <td>0.081218</td>\n",
              "      <td>0.000021</td>\n",
              "      <td>8.011259</td>\n",
              "      <td>20.22848</td>\n",
              "      <td>0.072019</td>\n",
              "      <td>18.38334</td>\n",
              "      <td>0.007763</td>\n",
              "      <td>17.46793</td>\n",
              "      <td>0.005828</td>\n",
              "      <td>3</td>\n",
              "    </tr>\n",
              "    <tr>\n",
              "      <th>3</th>\n",
              "      <td>1237671768542544090</td>\n",
              "      <td>257.85137</td>\n",
              "      <td>64.173247</td>\n",
              "      <td>0.081102</td>\n",
              "      <td>0.009898</td>\n",
              "      <td>0.079561</td>\n",
              "      <td>0.000022</td>\n",
              "      <td>8.739276</td>\n",
              "      <td>19.21829</td>\n",
              "      <td>0.050135</td>\n",
              "      <td>17.18970</td>\n",
              "      <td>0.004936</td>\n",
              "      <td>16.22043</td>\n",
              "      <td>0.003769</td>\n",
              "      <td>3</td>\n",
              "    </tr>\n",
              "    <tr>\n",
              "      <th>4</th>\n",
              "      <td>1237671768542544090</td>\n",
              "      <td>257.85137</td>\n",
              "      <td>64.173247</td>\n",
              "      <td>0.081102</td>\n",
              "      <td>0.009898</td>\n",
              "      <td>0.079568</td>\n",
              "      <td>0.000019</td>\n",
              "      <td>8.739276</td>\n",
              "      <td>19.21829</td>\n",
              "      <td>0.050135</td>\n",
              "      <td>17.18970</td>\n",
              "      <td>0.004936</td>\n",
              "      <td>16.22043</td>\n",
              "      <td>0.003769</td>\n",
              "      <td>3</td>\n",
              "    </tr>\n",
              "  </tbody>\n",
              "</table>\n",
              "</div>\n",
              "    <div class=\"colab-df-buttons\">\n",
              "\n",
              "  <div class=\"colab-df-container\">\n",
              "    <button class=\"colab-df-convert\" onclick=\"convertToInteractive('df-1ecad7d9-8b7a-40b5-8a9f-ca5f523d6120')\"\n",
              "            title=\"Convert this dataframe to an interactive table.\"\n",
              "            style=\"display:none;\">\n",
              "\n",
              "  <svg xmlns=\"http://www.w3.org/2000/svg\" height=\"24px\" viewBox=\"0 -960 960 960\">\n",
              "    <path d=\"M120-120v-720h720v720H120Zm60-500h600v-160H180v160Zm220 220h160v-160H400v160Zm0 220h160v-160H400v160ZM180-400h160v-160H180v160Zm440 0h160v-160H620v160ZM180-180h160v-160H180v160Zm440 0h160v-160H620v160Z\"/>\n",
              "  </svg>\n",
              "    </button>\n",
              "\n",
              "  <style>\n",
              "    .colab-df-container {\n",
              "      display:flex;\n",
              "      gap: 12px;\n",
              "    }\n",
              "\n",
              "    .colab-df-convert {\n",
              "      background-color: #E8F0FE;\n",
              "      border: none;\n",
              "      border-radius: 50%;\n",
              "      cursor: pointer;\n",
              "      display: none;\n",
              "      fill: #1967D2;\n",
              "      height: 32px;\n",
              "      padding: 0 0 0 0;\n",
              "      width: 32px;\n",
              "    }\n",
              "\n",
              "    .colab-df-convert:hover {\n",
              "      background-color: #E2EBFA;\n",
              "      box-shadow: 0px 1px 2px rgba(60, 64, 67, 0.3), 0px 1px 3px 1px rgba(60, 64, 67, 0.15);\n",
              "      fill: #174EA6;\n",
              "    }\n",
              "\n",
              "    .colab-df-buttons div {\n",
              "      margin-bottom: 4px;\n",
              "    }\n",
              "\n",
              "    [theme=dark] .colab-df-convert {\n",
              "      background-color: #3B4455;\n",
              "      fill: #D2E3FC;\n",
              "    }\n",
              "\n",
              "    [theme=dark] .colab-df-convert:hover {\n",
              "      background-color: #434B5C;\n",
              "      box-shadow: 0px 1px 3px 1px rgba(0, 0, 0, 0.15);\n",
              "      filter: drop-shadow(0px 1px 2px rgba(0, 0, 0, 0.3));\n",
              "      fill: #FFFFFF;\n",
              "    }\n",
              "  </style>\n",
              "\n",
              "    <script>\n",
              "      const buttonEl =\n",
              "        document.querySelector('#df-1ecad7d9-8b7a-40b5-8a9f-ca5f523d6120 button.colab-df-convert');\n",
              "      buttonEl.style.display =\n",
              "        google.colab.kernel.accessAllowed ? 'block' : 'none';\n",
              "\n",
              "      async function convertToInteractive(key) {\n",
              "        const element = document.querySelector('#df-1ecad7d9-8b7a-40b5-8a9f-ca5f523d6120');\n",
              "        const dataTable =\n",
              "          await google.colab.kernel.invokeFunction('convertToInteractive',\n",
              "                                                    [key], {});\n",
              "        if (!dataTable) return;\n",
              "\n",
              "        const docLinkHtml = 'Like what you see? Visit the ' +\n",
              "          '<a target=\"_blank\" href=https://colab.research.google.com/notebooks/data_table.ipynb>data table notebook</a>'\n",
              "          + ' to learn more about interactive tables.';\n",
              "        element.innerHTML = '';\n",
              "        dataTable['output_type'] = 'display_data';\n",
              "        await google.colab.output.renderOutput(dataTable, element);\n",
              "        const docLink = document.createElement('div');\n",
              "        docLink.innerHTML = docLinkHtml;\n",
              "        element.appendChild(docLink);\n",
              "      }\n",
              "    </script>\n",
              "  </div>\n",
              "\n",
              "\n",
              "    <div id=\"df-9f3e15a5-453a-43fa-b2b1-a573213cf5dd\">\n",
              "      <button class=\"colab-df-quickchart\" onclick=\"quickchart('df-9f3e15a5-453a-43fa-b2b1-a573213cf5dd')\"\n",
              "                title=\"Suggest charts\"\n",
              "                style=\"display:none;\">\n",
              "\n",
              "<svg xmlns=\"http://www.w3.org/2000/svg\" height=\"24px\"viewBox=\"0 0 24 24\"\n",
              "     width=\"24px\">\n",
              "    <g>\n",
              "        <path d=\"M19 3H5c-1.1 0-2 .9-2 2v14c0 1.1.9 2 2 2h14c1.1 0 2-.9 2-2V5c0-1.1-.9-2-2-2zM9 17H7v-7h2v7zm4 0h-2V7h2v10zm4 0h-2v-4h2v4z\"/>\n",
              "    </g>\n",
              "</svg>\n",
              "      </button>\n",
              "\n",
              "<style>\n",
              "  .colab-df-quickchart {\n",
              "      --bg-color: #E8F0FE;\n",
              "      --fill-color: #1967D2;\n",
              "      --hover-bg-color: #E2EBFA;\n",
              "      --hover-fill-color: #174EA6;\n",
              "      --disabled-fill-color: #AAA;\n",
              "      --disabled-bg-color: #DDD;\n",
              "  }\n",
              "\n",
              "  [theme=dark] .colab-df-quickchart {\n",
              "      --bg-color: #3B4455;\n",
              "      --fill-color: #D2E3FC;\n",
              "      --hover-bg-color: #434B5C;\n",
              "      --hover-fill-color: #FFFFFF;\n",
              "      --disabled-bg-color: #3B4455;\n",
              "      --disabled-fill-color: #666;\n",
              "  }\n",
              "\n",
              "  .colab-df-quickchart {\n",
              "    background-color: var(--bg-color);\n",
              "    border: none;\n",
              "    border-radius: 50%;\n",
              "    cursor: pointer;\n",
              "    display: none;\n",
              "    fill: var(--fill-color);\n",
              "    height: 32px;\n",
              "    padding: 0;\n",
              "    width: 32px;\n",
              "  }\n",
              "\n",
              "  .colab-df-quickchart:hover {\n",
              "    background-color: var(--hover-bg-color);\n",
              "    box-shadow: 0 1px 2px rgba(60, 64, 67, 0.3), 0 1px 3px 1px rgba(60, 64, 67, 0.15);\n",
              "    fill: var(--button-hover-fill-color);\n",
              "  }\n",
              "\n",
              "  .colab-df-quickchart-complete:disabled,\n",
              "  .colab-df-quickchart-complete:disabled:hover {\n",
              "    background-color: var(--disabled-bg-color);\n",
              "    fill: var(--disabled-fill-color);\n",
              "    box-shadow: none;\n",
              "  }\n",
              "\n",
              "  .colab-df-spinner {\n",
              "    border: 2px solid var(--fill-color);\n",
              "    border-color: transparent;\n",
              "    border-bottom-color: var(--fill-color);\n",
              "    animation:\n",
              "      spin 1s steps(1) infinite;\n",
              "  }\n",
              "\n",
              "  @keyframes spin {\n",
              "    0% {\n",
              "      border-color: transparent;\n",
              "      border-bottom-color: var(--fill-color);\n",
              "      border-left-color: var(--fill-color);\n",
              "    }\n",
              "    20% {\n",
              "      border-color: transparent;\n",
              "      border-left-color: var(--fill-color);\n",
              "      border-top-color: var(--fill-color);\n",
              "    }\n",
              "    30% {\n",
              "      border-color: transparent;\n",
              "      border-left-color: var(--fill-color);\n",
              "      border-top-color: var(--fill-color);\n",
              "      border-right-color: var(--fill-color);\n",
              "    }\n",
              "    40% {\n",
              "      border-color: transparent;\n",
              "      border-right-color: var(--fill-color);\n",
              "      border-top-color: var(--fill-color);\n",
              "    }\n",
              "    60% {\n",
              "      border-color: transparent;\n",
              "      border-right-color: var(--fill-color);\n",
              "    }\n",
              "    80% {\n",
              "      border-color: transparent;\n",
              "      border-right-color: var(--fill-color);\n",
              "      border-bottom-color: var(--fill-color);\n",
              "    }\n",
              "    90% {\n",
              "      border-color: transparent;\n",
              "      border-bottom-color: var(--fill-color);\n",
              "    }\n",
              "  }\n",
              "</style>\n",
              "\n",
              "      <script>\n",
              "        async function quickchart(key) {\n",
              "          const quickchartButtonEl =\n",
              "            document.querySelector('#' + key + ' button');\n",
              "          quickchartButtonEl.disabled = true;  // To prevent multiple clicks.\n",
              "          quickchartButtonEl.classList.add('colab-df-spinner');\n",
              "          try {\n",
              "            const charts = await google.colab.kernel.invokeFunction(\n",
              "                'suggestCharts', [key], {});\n",
              "          } catch (error) {\n",
              "            console.error('Error during call to suggestCharts:', error);\n",
              "          }\n",
              "          quickchartButtonEl.classList.remove('colab-df-spinner');\n",
              "          quickchartButtonEl.classList.add('colab-df-quickchart-complete');\n",
              "        }\n",
              "        (() => {\n",
              "          let quickchartButtonEl =\n",
              "            document.querySelector('#df-9f3e15a5-453a-43fa-b2b1-a573213cf5dd button');\n",
              "          quickchartButtonEl.style.display =\n",
              "            google.colab.kernel.accessAllowed ? 'block' : 'none';\n",
              "        })();\n",
              "      </script>\n",
              "    </div>\n",
              "\n",
              "    </div>\n",
              "  </div>\n"
            ],
            "application/vnd.google.colaboratory.intrinsic+json": {
              "type": "dataframe",
              "variable_name": "df",
              "summary": "{\n  \"name\": \"df\",\n  \"rows\": 139,\n  \"fields\": [\n    {\n      \"column\": \"objid\",\n      \"properties\": {\n        \"dtype\": \"number\",\n        \"std\": 75298094069,\n        \"min\": 1237671768542478711,\n        \"max\": 1237671939804627535,\n        \"num_unique_values\": 92,\n        \"samples\": [\n          1237671939804561487,\n          1237671768542609733,\n          1237671939804561897\n        ],\n        \"semantic_type\": \"\",\n        \"description\": \"\"\n      }\n    },\n    {\n      \"column\": \"ra\",\n      \"properties\": {\n        \"dtype\": \"number\",\n        \"std\": 0.19089447567935558,\n        \"min\": 257.77059,\n        \"max\": 258.48871,\n        \"num_unique_values\": 92,\n        \"samples\": [\n          258.08067,\n          258.41181,\n          258.03354\n        ],\n        \"semantic_type\": \"\",\n        \"description\": \"\"\n      }\n    },\n    {\n      \"column\": \"dec\",\n      \"properties\": {\n        \"dtype\": \"number\",\n        \"std\": 0.06795811179462426,\n        \"min\": 63.937414,\n        \"max\": 64.241688,\n        \"num_unique_values\": 92,\n        \"samples\": [\n          64.035634,\n          64.158894,\n          64.097415\n        ],\n        \"semantic_type\": \"\",\n        \"description\": \"\"\n      }\n    },\n    {\n      \"column\": \"photoz\",\n      \"properties\": {\n        \"dtype\": \"number\",\n        \"std\": 0.016527447849940074,\n        \"min\": 0.053107,\n        \"max\": 0.155318,\n        \"num_unique_values\": 92,\n        \"samples\": [\n          0.092821,\n          0.084622,\n          0.078896\n        ],\n        \"semantic_type\": \"\",\n        \"description\": \"\"\n      }\n    },\n    {\n      \"column\": \"photozerr\",\n      \"properties\": {\n        \"dtype\": \"number\",\n        \"std\": 0.006251269648864383,\n        \"min\": 0.007013,\n        \"max\": 0.036068,\n        \"num_unique_values\": 91,\n        \"samples\": [\n          0.014618,\n          0.016489,\n          0.015497\n        ],\n        \"semantic_type\": \"\",\n        \"description\": \"\"\n      }\n    },\n    {\n      \"column\": \"specz\",\n      \"properties\": {\n        \"dtype\": \"number\",\n        \"std\": 0.009497709534680291,\n        \"min\": 0.06997444,\n        \"max\": 0.15091,\n        \"num_unique_values\": 139,\n        \"samples\": [\n          0.08079002,\n          0.08442297,\n          0.08460221\n        ],\n        \"semantic_type\": \"\",\n        \"description\": \"\"\n      }\n    },\n    {\n      \"column\": \"speczerr\",\n      \"properties\": {\n        \"dtype\": \"number\",\n        \"std\": 7.249428608226341e-06,\n        \"min\": 5.181908e-06,\n        \"max\": 3.760066e-05,\n        \"num_unique_values\": 139,\n        \"samples\": [\n          2.528532e-05,\n          2.674874e-05,\n          1.932479e-05\n        ],\n        \"semantic_type\": \"\",\n        \"description\": \"\"\n      }\n    },\n    {\n      \"column\": \"proj_sep\",\n      \"properties\": {\n        \"dtype\": \"number\",\n        \"std\": 2.5175814567858175,\n        \"min\": 0.429174675,\n        \"max\": 9.844518658,\n        \"num_unique_values\": 92,\n        \"samples\": [\n          3.65059811,\n          8.397056839,\n          2.530808174\n        ],\n        \"semantic_type\": \"\",\n        \"description\": \"\"\n      }\n    },\n    {\n      \"column\": \"umag\",\n      \"properties\": {\n        \"dtype\": \"number\",\n        \"std\": 0.7594093839387984,\n        \"min\": 17.3246,\n        \"max\": 21.5633,\n        \"num_unique_values\": 92,\n        \"samples\": [\n          18.7973,\n          19.3083,\n          19.9445\n        ],\n        \"semantic_type\": \"\",\n        \"description\": \"\"\n      }\n    },\n    {\n      \"column\": \"umagerr\",\n      \"properties\": {\n        \"dtype\": \"number\",\n        \"std\": 0.024090387614241825,\n        \"min\": 0.02258424,\n        \"max\": 0.1513836,\n        \"num_unique_values\": 92,\n        \"samples\": [\n          0.06324691,\n          0.07295051,\n          0.06488913\n        ],\n        \"semantic_type\": \"\",\n        \"description\": \"\"\n      }\n    },\n    {\n      \"column\": \"gmag\",\n      \"properties\": {\n        \"dtype\": \"number\",\n        \"std\": 0.7290953230794629,\n        \"min\": 14.93716,\n        \"max\": 19.19833,\n        \"num_unique_values\": 92,\n        \"samples\": [\n          16.61937,\n          17.6091,\n          18.11538\n        ],\n        \"semantic_type\": \"\",\n        \"description\": \"\"\n      }\n    },\n    {\n      \"column\": \"gmagerr\",\n      \"properties\": {\n        \"dtype\": \"number\",\n        \"std\": 0.0017505999216781392,\n        \"min\": 0.002602796,\n        \"max\": 0.01167746,\n        \"num_unique_values\": 92,\n        \"samples\": [\n          0.005006138,\n          0.007308516,\n          0.007188361\n        ],\n        \"semantic_type\": \"\",\n        \"description\": \"\"\n      }\n    },\n    {\n      \"column\": \"rmag\",\n      \"properties\": {\n        \"dtype\": \"number\",\n        \"std\": 0.7708099530616689,\n        \"min\": 14.03668,\n        \"max\": 18.56886,\n        \"num_unique_values\": 92,\n        \"samples\": [\n          15.65794,\n          16.7517,\n          17.24741\n        ],\n        \"semantic_type\": \"\",\n        \"description\": \"\"\n      }\n    },\n    {\n      \"column\": \"rmagerr\",\n      \"properties\": {\n        \"dtype\": \"number\",\n        \"std\": 0.0019693413358414734,\n        \"min\": 0.002119043,\n        \"max\": 0.0210136,\n        \"num_unique_values\": 92,\n        \"samples\": [\n          0.003522045,\n          0.005631531,\n          0.005291835\n        ],\n        \"semantic_type\": \"\",\n        \"description\": \"\"\n      }\n    },\n    {\n      \"column\": \"obj_type\",\n      \"properties\": {\n        \"dtype\": \"number\",\n        \"std\": 0,\n        \"min\": 3,\n        \"max\": 3,\n        \"num_unique_values\": 1,\n        \"samples\": [\n          3\n        ],\n        \"semantic_type\": \"\",\n        \"description\": \"\"\n      }\n    }\n  ]\n}"
            }
          },
          "metadata": {},
          "execution_count": 6
        }
      ],
      "source": [
        "df.head()"
      ]
    },
    {
      "cell_type": "markdown",
      "metadata": {
        "id": "WduhS6QWAyb3"
      },
      "source": [
        "### 📊 Calculating the Average Spectroscopic Redshift (`specz`) for Each Object\n",
        "\n",
        "When working with astronomical catalogs, an object (identified by a unique `objid`) might have multiple entries — for example, due to repeated observations. To reduce this to a single row per object, we aggregate the data using the following strategy:\n",
        "\n",
        "```python\n",
        "averaged_df = df.groupby('objid').agg({\n",
        "    'specz': 'mean',        # Take the mean of all spec-z values for that object\n",
        "    'ra': 'first',          # Use the first RA value (assumed constant for the object)\n",
        "    'dec': 'first',         # Use the first Dec value (same reason as above)\n",
        "    'proj_sep': 'first'     # Use the first projected separation value\n",
        "}).reset_index()\n"
      ]
    },
    {
      "cell_type": "code",
      "execution_count": 7,
      "metadata": {
        "id": "85CTalniAyb3"
      },
      "outputs": [],
      "source": [
        "averaged_df = (\n",
        "    df.groupby(\"objid\")\n",
        "      .agg({\n",
        "          \"specz\":    \"mean\",   # average redshift\n",
        "          \"ra\":       \"first\",  # keep sky position\n",
        "          \"dec\":      \"first\",\n",
        "          \"proj_sep\": \"first\",  # angular separation\n",
        "          \"rmag\":     \"mean\"    # average r-band mag\n",
        "      })\n",
        "      .reset_index()\n",
        ")"
      ]
    },
    {
      "cell_type": "code",
      "execution_count": 8,
      "metadata": {
        "colab": {
          "base_uri": "https://localhost:8080/",
          "height": 335
        },
        "id": "IhG7xOwQAyb3",
        "outputId": "b23884c3-620f-48d1-b8dd-f381a8049e7c"
      },
      "outputs": [
        {
          "output_type": "execute_result",
          "data": {
            "text/plain": [
              "count    92.000000\n",
              "mean      0.080838\n",
              "std       0.008578\n",
              "min       0.069976\n",
              "25%       0.077224\n",
              "50%       0.080961\n",
              "75%       0.082797\n",
              "max       0.150886\n",
              "Name: specz, dtype: float64"
            ],
            "text/html": [
              "<div>\n",
              "<style scoped>\n",
              "    .dataframe tbody tr th:only-of-type {\n",
              "        vertical-align: middle;\n",
              "    }\n",
              "\n",
              "    .dataframe tbody tr th {\n",
              "        vertical-align: top;\n",
              "    }\n",
              "\n",
              "    .dataframe thead th {\n",
              "        text-align: right;\n",
              "    }\n",
              "</style>\n",
              "<table border=\"1\" class=\"dataframe\">\n",
              "  <thead>\n",
              "    <tr style=\"text-align: right;\">\n",
              "      <th></th>\n",
              "      <th>specz</th>\n",
              "    </tr>\n",
              "  </thead>\n",
              "  <tbody>\n",
              "    <tr>\n",
              "      <th>count</th>\n",
              "      <td>92.000000</td>\n",
              "    </tr>\n",
              "    <tr>\n",
              "      <th>mean</th>\n",
              "      <td>0.080838</td>\n",
              "    </tr>\n",
              "    <tr>\n",
              "      <th>std</th>\n",
              "      <td>0.008578</td>\n",
              "    </tr>\n",
              "    <tr>\n",
              "      <th>min</th>\n",
              "      <td>0.069976</td>\n",
              "    </tr>\n",
              "    <tr>\n",
              "      <th>25%</th>\n",
              "      <td>0.077224</td>\n",
              "    </tr>\n",
              "    <tr>\n",
              "      <th>50%</th>\n",
              "      <td>0.080961</td>\n",
              "    </tr>\n",
              "    <tr>\n",
              "      <th>75%</th>\n",
              "      <td>0.082797</td>\n",
              "    </tr>\n",
              "    <tr>\n",
              "      <th>max</th>\n",
              "      <td>0.150886</td>\n",
              "    </tr>\n",
              "  </tbody>\n",
              "</table>\n",
              "</div><br><label><b>dtype:</b> float64</label>"
            ]
          },
          "metadata": {},
          "execution_count": 8
        }
      ],
      "source": [
        "averaged_df.describe()['specz']"
      ]
    },
    {
      "cell_type": "markdown",
      "metadata": {
        "id": "LGO18qqXAyb3"
      },
      "source": [
        "To create a cut in the redshift so that a cluster can be identified. We must use some logic. Most astronomers prefer anything beyond 3*sigma away from the mean to be not part of the same group.\n",
        "\n",
        "Find the mean, standard deviation and limits of the redshift from the data"
      ]
    },
    {
      "cell_type": "code",
      "execution_count": 9,
      "metadata": {
        "colab": {
          "base_uri": "https://localhost:8080/",
          "height": 0
        },
        "id": "Oj0VayVJAyb3",
        "outputId": "3ba7742f-d7be-41a4-f4a9-6f47855b64e1"
      },
      "outputs": [
        {
          "output_type": "stream",
          "name": "stdout",
          "text": [
            "Mean z = 0.08084, σ_z = 0.00858\n",
            "3σ window: 0.05510 to 0.10657\n"
          ]
        }
      ],
      "source": [
        "z_mean = averaged_df[\"specz\"].mean()\n",
        "z_std  = averaged_df[\"specz\"].std(ddof=1)\n",
        "z_min, z_max = z_mean - 3*z_std, z_mean + 3*z_std\n",
        "\n",
        "print(f\"Mean z = {z_mean:.5f}, σ_z = {z_std:.5f}\")\n",
        "print(f\"3σ window: {z_min:.5f} to {z_max:.5f}\")"
      ]
    },
    {
      "cell_type": "markdown",
      "metadata": {
        "id": "XoMtZcwgAyb4"
      },
      "source": [
        "You can also use boxplot to visualize the overall values of redshift"
      ]
    },
    {
      "cell_type": "code",
      "execution_count": 10,
      "metadata": {
        "colab": {
          "base_uri": "https://localhost:8080/",
          "height": 472
        },
        "id": "bLSp0-xwAyb4",
        "outputId": "d033e15b-48fd-4243-dd16-4c0430247713"
      },
      "outputs": [
        {
          "output_type": "display_data",
          "data": {
            "text/plain": [
              "<Figure size 640x480 with 1 Axes>"
            ],
            "image/png": "[encoded data removed]"
          },
          "metadata": {}
        }
      ],
      "source": [
        "# visualize the redshift distribution\n",
        "plt.figure();\n",
        "plt.boxplot(averaged_df[\"specz\"], vert=False)\n",
        "plt.title(\"Redshift Boxplot\");\n",
        "plt.xlabel(\"z\");\n",
        "plt.show()"
      ]
    },
    {
      "cell_type": "markdown",
      "metadata": {
        "id": "0psiJ_BXAyb4"
      },
      "source": [
        "But the best plot would be a histogram to see where most of the objects downloaded lie in terms of redshift value"
      ]
    },
    {
      "cell_type": "code",
      "execution_count": 11,
      "metadata": {
        "colab": {
          "base_uri": "https://localhost:8080/",
          "height": 472
        },
        "id": "lWc4s2XQAyb4",
        "outputId": "414f9047-81bf-4bd7-e3f7-4ae1a92f596b"
      },
      "outputs": [
        {
          "output_type": "display_data",
          "data": {
            "text/plain": [
              "<Figure size 640x480 with 1 Axes>"
            ],
            "image/png": "[encoded data removed]"
          },
          "metadata": {}
        }
      ],
      "source": [
        "plt.figure();\n",
        "plt.hist(averaged_df[\"specz\"], bins=60, edgecolor=\"black\")\n",
        "plt.title(\"Redshift Histogram\");\n",
        "plt.xlabel(\"z\");\n",
        "plt.ylabel(\"Count\");\n",
        "plt.show();"
      ]
    },
    {
      "cell_type": "markdown",
      "metadata": {
        "id": "5CMGDdesAyb4"
      },
      "source": [
        "Filter your data based on the 3-sigma limit of redshift. You should remove all data points which are 3-sigma away from mean of redshift"
      ]
    },
    {
      "cell_type": "code",
      "execution_count": 12,
      "metadata": {
        "colab": {
          "base_uri": "https://localhost:8080/",
          "height": 0
        },
        "id": "MjbMjV-oAyb4",
        "outputId": "2c26ca7d-fa4c-477e-c679-cce01377fbc6"
      },
      "outputs": [
        {
          "output_type": "stream",
          "name": "stdout",
          "text": [
            "Found 91 cluster members out of 92\n"
          ]
        }
      ],
      "source": [
        "# Filtering the data based on specz values, used 3 sigma deviation from mean as upper limit.\n",
        "cluster_df = averaged_df[(averaged_df[\"specz\"] >= z_min) & (averaged_df[\"specz\"] <= z_max)]\n",
        "print(f\"Found {len(cluster_df)} cluster members out of {len(averaged_df)}\")"
      ]
    },
    {
      "cell_type": "markdown",
      "metadata": {
        "id": "n42GPzY9Ayb5"
      },
      "source": [
        "Use the relation between redshift and velocity to add a column named velocity in the data. This would tell the expansion velocity at that redshift"
      ]
    },
    {
      "cell_type": "code",
      "execution_count": 13,
      "metadata": {
        "id": "v_qGtQriAyb5",
        "colab": {
          "base_uri": "https://localhost:8080/",
          "height": 0
        },
        "outputId": "84accab8-cb38-4f5a-adc9-1fd410abca2d"
      },
      "outputs": [
        {
          "output_type": "stream",
          "name": "stderr",
          "text": [
            "/tmp/ipython-input-13-869131744.py:1: SettingWithCopyWarning: \n",
            "A value is trying to be set on a copy of a slice from a DataFrame.\n",
            "Try using .loc[row_indexer,col_indexer] = value instead\n",
            "\n",
            "See the caveats in the documentation: https://pandas.pydata.org/pandas-docs/stable/user_guide/indexing.html#returning-a-view-versus-a-copy\n",
            "  cluster_df[\"velocity\"] = (cluster_df[\"specz\"].values * c_kms).to(u.km/u.s)\n"
          ]
        }
      ],
      "source": [
        "cluster_df[\"velocity\"] = (cluster_df[\"specz\"].values * c_kms).to(u.km/u.s)"
      ]
    },
    {
      "cell_type": "markdown",
      "metadata": {
        "id": "g6dzhjDoAyb5"
      },
      "source": [
        "use the dispersion equation to find something called velocity dispersion. You can even refer to wikipedia to know about the term [wiki link here](https://en.wikipedia.org/wiki/Velocity_dispersion#:~:text=In%20astronomy%2C%20the%20velocity%20dispersion,%2C%20galaxy%20cluster%2C%20or%20supercluster.)\n",
        "\n",
        "It is the velocity dispersion value which tells us, some galaxies might be part of even larger groups!!"
      ]
    },
    {
      "cell_type": "code",
      "execution_count": 14,
      "metadata": {
        "colab": {
          "base_uri": "https://localhost:8080/",
          "height": 0
        },
        "id": "l1eis3KIAyb6",
        "outputId": "8f7a712a-bdc3-44a0-9866-b7ce596665aa"
      },
      "outputs": [
        {
          "output_type": "stream",
          "name": "stdout",
          "text": [
            "Approximate σᵥ = 1316.152774680483 km / s\n"
          ]
        }
      ],
      "source": [
        "sigma_v_approx = np.std([v.value for v in cluster_df[\"velocity\"]], ddof=1) * u.km/u.s\n",
        "print(\"Approximate σᵥ =\", sigma_v_approx)"
      ]
    },
    {
      "cell_type": "markdown",
      "metadata": {
        "id": "qfhPuTa9Ayb6"
      },
      "source": [
        "### Step 2: Calculate Mean Redshift of the Cluster\n",
        "We calculate the average redshift (`specz`) of galaxies that belong to a cluster. This gives us an estimate of the cluster's systemic redshift.\n",
        "\n",
        "`cluster_redshift = filtered_df['specz'].mean()`\n"
      ]
    },
    {
      "cell_type": "markdown",
      "metadata": {
        "id": "wgionZjQAyb6"
      },
      "source": [
        "The velocity dispersion \\( v \\) of galaxies relative to the cluster mean redshift is computed using the relativistic Doppler formula:\n",
        "\n",
        "$$\n",
        "v = c \\cdot \\frac{(1 + z)^2 - (1 + z_{\\text{cluster}})^2}{(1 + z)^2 + (1 + z_{\\text{cluster}})^2}\n",
        "$$\n",
        "where:\n",
        "- \\( v \\) is the relative velocity (dispersion),\n",
        "- \\( z \\) is the redshift of the individual galaxy,\n",
        "- \\( $z_{\\text{cluster}}$ \\) is the mean cluster redshift,\n",
        "- \\( c \\) is the speed of light.\n"
      ]
    },
    {
      "cell_type": "code",
      "source": [
        "filtered_df = averaged_df[(averaged_df[\"specz\"] >= z_min) & (averaged_df[\"specz\"] <= z_max)]\n",
        "z_c   = filtered_df[\"specz\"].mean()\n",
        "z_arr = filtered_df[\"specz\"].values"
      ],
      "metadata": {
        "id": "jgHkZDrTJ_ih"
      },
      "execution_count": 16,
      "outputs": []
    },
    {
      "cell_type": "code",
      "source": [
        "v_rel = (c_kms * ((1+z_arr)**2 - (1+z_c)**2) / ((1+z_arr)**2 + (1+z_c)**2)).to(u.km/u.s)\n",
        "filtered_df[\"velocity_rel\"] = v_rel\n",
        "disp = np.std(v_rel.value, ddof=1) * u.km/u.s"
      ],
      "metadata": {
        "colab": {
          "base_uri": "https://localhost:8080/",
          "height": 0
        },
        "id": "SlhgWWooKC94",
        "outputId": "2eab5ecd-3fce-42b6-e3d6-9235f5cd1267"
      },
      "execution_count": 17,
      "outputs": [
        {
          "output_type": "stream",
          "name": "stderr",
          "text": [
            "/tmp/ipython-input-17-3673429257.py:2: SettingWithCopyWarning: \n",
            "A value is trying to be set on a copy of a slice from a DataFrame.\n",
            "Try using .loc[row_indexer,col_indexer] = value instead\n",
            "\n",
            "See the caveats in the documentation: https://pandas.pydata.org/pandas-docs/stable/user_guide/indexing.html#returning-a-view-versus-a-copy\n",
            "  filtered_df[\"velocity_rel\"] = v_rel\n"
          ]
        }
      ]
    },
    {
      "cell_type": "code",
      "source": [
        "print(f\"Cluster mean redshift = {z_c:.5f}\")\n",
        "print(\"Velocity dispersion σᵥ =\", disp)"
      ],
      "metadata": {
        "colab": {
          "base_uri": "https://localhost:8080/",
          "height": 0
        },
        "id": "D91qMiarKLVO",
        "outputId": "60fc4d03-ee80-4507-f7dc-020e3a04c797"
      },
      "execution_count": 18,
      "outputs": [
        {
          "output_type": "stream",
          "name": "stdout",
          "text": [
            "Cluster mean redshift = 0.08007\n",
            "Velocity dispersion σᵥ = 1218.4929446822505 km / s\n"
          ]
        }
      ]
    },
    {
      "cell_type": "code",
      "source": [
        "plt.figure();\n",
        "plt.hist(v_rel.value, bins=30, edgecolor=\"black\")\n",
        "plt.title(\"Relativistic v_disp\");\n",
        "plt.xlabel(\"v_rel [km/s]\");\n",
        "plt.show();"
      ],
      "metadata": {
        "colab": {
          "base_uri": "https://localhost:8080/",
          "height": 472
        },
        "id": "37NldXqKKQI2",
        "outputId": "08d238c7-779a-4ae6-c3f6-29b7e370e073"
      },
      "execution_count": 19,
      "outputs": [
        {
          "output_type": "display_data",
          "data": {
            "text/plain": [
              "<Figure size 640x480 with 1 Axes>"
            ],
            "image/png": "[encoded data removed]"
          },
          "metadata": {}
        }
      ]
    },
    {
      "cell_type": "markdown",
      "metadata": {
        "id": "rEGqnUTuAyb7"
      },
      "source": [
        "Pro tip: Check what the describe function of pandas does. Does it help to get quick look stats for your column of dispersion??"
      ]
    },
    {
      "cell_type": "code",
      "execution_count": null,
      "metadata": {
        "id": "wrnsw8XKAyb8"
      },
      "outputs": [],
      "source": []
    },
    {
      "cell_type": "markdown",
      "metadata": {
        "id": "0V3K7oaWAyb8"
      },
      "source": [
        "### Step 4: Visualizing Angular Separation of Galaxies\n",
        "We plot a histogram of the projected (angular) separation of galaxies from the cluster center. This helps us understand the spatial distribution of galaxies within the cluster field.\n",
        "\n",
        "- The x-axis represents the angular separation (in arcminutes or degrees, depending on units).\n",
        "- The y-axis shows the number of galaxies at each separation bin.\n",
        "\n"
      ]
    },
    {
      "cell_type": "code",
      "execution_count": 20,
      "metadata": {
        "colab": {
          "base_uri": "https://localhost:8080/",
          "height": 472
        },
        "id": "ptE7njwkAycG",
        "outputId": "175fd387-bc18-424a-9460-e2232eb2bcce"
      },
      "outputs": [
        {
          "output_type": "display_data",
          "data": {
            "text/plain": [
              "<Figure size 640x480 with 1 Axes>"
            ],
            "image/png": "[encoded data removed]"
          },
          "metadata": {}
        }
      ],
      "source": [
        "plt.figure();\n",
        "plt.hist(filtered_df[\"proj_sep\"], bins=30, edgecolor=\"black\");\n",
        "plt.title(\"Angular separation\");\n",
        "plt.xlabel(\"sep [arcmin]\");\n",
        "plt.ylabel(\"count\");\n",
        "plt.show()"
      ]
    },
    {
      "cell_type": "markdown",
      "metadata": {
        "id": "_ZK9FIHmAycG"
      },
      "source": [
        "### Determining size and mass of the cluster:"
      ]
    },
    {
      "cell_type": "markdown",
      "metadata": {
        "id": "AU1JkUwGAycG"
      },
      "source": [
        "### Step 5: Estimating Physical Diameter of the Cluster\n",
        "We now estimate the **physical diameter** of the galaxy cluster using cosmological parameters.\n",
        "\n",
        "- `r` is the **co-moving distance**, approximated using a Taylor expansion for low redshift:\n",
        "  $$\n",
        "  r = \\frac{cz}{H_0} \\left(1 - \\frac{z}{2}(1 + q_0)\\right)\n",
        "  $$\n",
        "  where $q_0$ is the deceleration parameter\n",
        "- `ra` is the **angular diameter distance**, given by:\n",
        "  $$\n",
        "  D_A = \\frac{r}{1 + z}\n",
        "  $$\n",
        "- Finally, we convert the observed angular diameter (in arcminutes) into physical size using:\n",
        "  $$\n",
        "  \\text{diameter (in Mpc)} = D_A \\cdot \\theta\n",
        "  $$\n",
        "  where $ \\theta $ is the angular size in radians, converted from arcminutes.\n",
        "\n",
        "> This gives us a rough estimate of the cluster's size in megaparsecs (Mpc), assuming a flat ΛCDM cosmology.\n"
      ]
    },
    {
      "cell_type": "code",
      "source": [
        "theta       = np.median(filtered_df[\"proj_sep\"]) * u.arcmin\n",
        "theta_rad   = theta.to(u.rad)"
      ],
      "metadata": {
        "id": "XEh118LvKhYk"
      },
      "execution_count": 21,
      "outputs": []
    },
    {
      "cell_type": "code",
      "source": [
        "r = (c_kms * z_c / H_0 * (1 - 0.5*z_c*(1+q0))).to(u.Mpc)  # low-z approximation\n",
        "ra  = (r / (1+z_c)).to(u.Mpc) # angular-diameter"
      ],
      "metadata": {
        "id": "KxY0b0QpKhPj"
      },
      "execution_count": 22,
      "outputs": []
    },
    {
      "cell_type": "code",
      "source": [
        "diameter = ra * theta_rad.value\n",
        "\n",
        "print(\"Co-moving distance, r =\", r)\n",
        "print(\"Angular-diameter, ra  =\", ra)\n",
        "print(\"Cluster diameter      =\", diameter)"
      ],
      "metadata": {
        "colab": {
          "base_uri": "https://localhost:8080/",
          "height": 0
        },
        "id": "meS6gyW5KhFl",
        "outputId": "72841b51-4ed7-4d42-cb51-c57ae10bcb5b"
      },
      "execution_count": 23,
      "outputs": [
        {
          "output_type": "stream",
          "name": "stdout",
          "text": [
            "Co-moving distance, r = 348.15152134598634 Mpc\n",
            "Angular-diameter, ra  = 322.3422652698339 Mpc\n",
            "Cluster diameter      = 0.593153720588005 Mpc\n"
          ]
        }
      ]
    },
    {
      "cell_type": "markdown",
      "metadata": {
        "id": "J1vxLc1aAycH"
      },
      "source": [
        "### Step 6: Calculating the Dynamical Mass of the Cluster\n",
        "We now estimate the **dynamical mass** of the galaxy cluster using the virial theorem:\n",
        "\n",
        "$$\n",
        "M_{\\text{dyn}} = \\frac{3 \\sigma^2 R}{G}\n",
        "$$\n",
        "\n",
        "Where:\n",
        "- $ \\sigma $ is the **velocity dispersion** in m/s (`disp * 1000`),\n",
        "- $ R $ is the **cluster radius** in meters (half the physical diameter converted to meters),\n",
        "- $ G $ is the **gravitational constant** in SI units,\n",
        "- The factor of 3 assumes an isotropic velocity distribution (common in virial estimates).\n",
        "\n",
        "We convert the final result into **solar masses** by dividing by $ 2 \\times 10^{30} \\, \\text{kg} $.\n",
        "\n",
        "> This mass estimate assumes the cluster is in dynamical equilibrium and bound by gravity.\n"
      ]
    },
    {
      "cell_type": "code",
      "source": [
        "R_m = (0.5 * diameter).to(u.m) # radius in meters\n",
        "sigma_m = disp.to(u.m/u.s) # σᵥ in m/s"
      ],
      "metadata": {
        "id": "wBH4HuJ9KqXJ"
      },
      "execution_count": 33,
      "outputs": []
    },
    {
      "cell_type": "code",
      "source": [
        "M_dyn = (3 * sigma_m**2 * R_m / G_si).to(u.M_sun)"
      ],
      "metadata": {
        "id": "cQwX279kKqSl"
      },
      "execution_count": 34,
      "outputs": []
    },
    {
      "cell_type": "code",
      "source": [
        "D_L_pc = cosmo.luminosity_distance(filtered_df[\"specz\"]).to(u.pc).value\n",
        "m_r    = filtered_df[\"rmag\"].values\n",
        "M_r    = m_r - 5 * np.log10(D_L_pc/10)   # absolute mag\n",
        "M_sun  = 4.64  # Sun's r-band M\n",
        "L_r    = 10**(-0.4 * (M_r - M_sun))\n",
        "M_L_ratio = 1.0    # assume 1 M☉ per L☉\n",
        "luminous_mass = L_r * M_L_ratio"
      ],
      "metadata": {
        "id": "54mkp0CqKqJk"
      },
      "execution_count": 41,
      "outputs": []
    },
    {
      "cell_type": "code",
      "source": [
        "cluster_df[\"luminous_mass\"] = luminous_mass\n",
        "total_luminous_mass = luminous_mass.sum() * u.M_sun"
      ],
      "metadata": {
        "colab": {
          "base_uri": "https://localhost:8080/",
          "height": 0
        },
        "id": "MohkRHU5Kysu",
        "outputId": "b0ab20a7-44f2-4b2e-f444-09cca2540273"
      },
      "execution_count": 42,
      "outputs": [
        {
          "output_type": "stream",
          "name": "stderr",
          "text": [
            "/tmp/ipython-input-42-491636537.py:1: SettingWithCopyWarning: \n",
            "A value is trying to be set on a copy of a slice from a DataFrame.\n",
            "Try using .loc[row_indexer,col_indexer] = value instead\n",
            "\n",
            "See the caveats in the documentation: https://pandas.pydata.org/pandas-docs/stable/user_guide/indexing.html#returning-a-view-versus-a-copy\n",
            "  cluster_df[\"luminous_mass\"] = luminous_mass\n"
          ]
        }
      ]
    },
    {
      "cell_type": "code",
      "source": [
        "print(f\"Dynamical mass M_dyn    = {M_dyn.value:.2e} {M_dyn.unit}\")\n",
        "print(f\"Total luminous mass     = {total_luminous_mass.value:.2e} {total_luminous_mass.unit}\")"
      ],
      "metadata": {
        "colab": {
          "base_uri": "https://localhost:8080/",
          "height": 0
        },
        "id": "1PMdwUNTRDfw",
        "outputId": "c543f5bc-d5ff-48d3-e8ad-807ef0cb5cda"
      },
      "execution_count": 43,
      "outputs": [
        {
          "output_type": "stream",
          "name": "stdout",
          "text": [
            "Dynamical mass M_dyn    = 3.07e+14 solMass\n",
            "Total luminous mass     = 2.26e+12 solMass\n"
          ]
        }
      ]
    }
  ],
  "metadata": {
    "kernelspec": {
      "display_name": "Python 3",
      "language": "python",
      "name": "python3"
    },
    "language_info": {
      "codemirror_mode": {
        "name": "ipython",
        "version": 3
      },
      "file_extension": ".py",
      "mimetype": "text/x-python",
      "name": "python",
      "nbconvert_exporter": "python",
      "pygments_lexer": "ipython3",
      "version": "3.12.4"
    },
    "colab": {
      "provenance": []
    }
  },
  "nbformat": 4,
  "nbformat_minor": 0
}